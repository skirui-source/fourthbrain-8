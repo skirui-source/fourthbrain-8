{
 "cells": [
  {
   "cell_type": "markdown",
   "id": "978a7fe3-a13e-4065-a68b-5b57753e98bc",
   "metadata": {},
   "source": [
    "## **Interview Readiness** ##"
   ]
  },
  {
   "cell_type": "markdown",
   "id": "51a4f6ee-f481-4f7a-b9a0-ba61556af138",
   "metadata": {},
   "source": [
    "What does it mean to create a Docker image and why do we use Docker images?\n",
    "- sks"
   ]
  },
  {
   "cell_type": "markdown",
   "id": "5d599c96-8c99-4458-ac9a-b6bfa77f8c7a",
   "metadata": {},
   "source": [
    "Please explain what is the difference from a Container vs a Virtual Machine?\n",
    "- ss"
   ]
  },
  {
   "cell_type": "markdown",
   "id": "2689e58d-8a30-4aa3-9890-c4a18e67fc3d",
   "metadata": {},
   "source": [
    "What are 5 examples of container orchestration tools (please list tools)?\n",
    "- sss"
   ]
  },
  {
   "cell_type": "markdown",
   "id": "69f6d03b-8484-485e-b943-a907d4dab88f",
   "metadata": {},
   "source": [
    "How does a Docker image differ from a Docker container?\n",
    "- sss"
   ]
  }
 ],
 "metadata": {
  "kernelspec": {
   "display_name": "Python 3 (ipykernel)",
   "language": "python",
   "name": "python3"
  },
  "language_info": {
   "codemirror_mode": {
    "name": "ipython",
    "version": 3
   },
   "file_extension": ".py",
   "mimetype": "text/x-python",
   "name": "python",
   "nbconvert_exporter": "python",
   "pygments_lexer": "ipython3",
   "version": "3.8.13"
  }
 },
 "nbformat": 4,
 "nbformat_minor": 5
}
