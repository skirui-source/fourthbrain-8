{
 "cells": [
  {
   "cell_type": "code",
   "execution_count": 4,
   "id": "dd8ca316",
   "metadata": {},
   "outputs": [
    {
     "name": "stdout",
     "output_type": "stream",
     "text": [
      "Requirement already satisfied: appdirs in /home/skirui/anaconda3/envs/week2/lib/python3.8/site-packages (1.4.4)\n",
      "Requirement already satisfied: click in /home/skirui/anaconda3/envs/week2/lib/python3.8/site-packages (8.1.3)\n",
      "Requirement already satisfied: mypy-extensions in /home/skirui/anaconda3/envs/week2/lib/python3.8/site-packages (0.4.3)\n",
      "Requirement already satisfied: pathspec in /home/skirui/anaconda3/envs/week2/lib/python3.8/site-packages (0.9.0)\n",
      "Requirement already satisfied: toml in /home/skirui/anaconda3/envs/week2/lib/python3.8/site-packages (0.10.2)\n",
      "Requirement already satisfied: transformers in /home/skirui/anaconda3/envs/week2/lib/python3.8/site-packages (4.20.1)\n",
      "Requirement already satisfied: torch in /home/skirui/anaconda3/envs/week2/lib/python3.8/site-packages (1.12.0)\n",
      "Requirement already satisfied: regex!=2019.12.17 in /home/skirui/anaconda3/envs/week2/lib/python3.8/site-packages (from transformers) (2022.6.2)\n",
      "Requirement already satisfied: filelock in /home/skirui/anaconda3/envs/week2/lib/python3.8/site-packages (from transformers) (3.7.1)\n",
      "Requirement already satisfied: pyyaml>=5.1 in /home/skirui/anaconda3/envs/week2/lib/python3.8/site-packages (from transformers) (6.0)\n",
      "Requirement already satisfied: huggingface-hub<1.0,>=0.1.0 in /home/skirui/anaconda3/envs/week2/lib/python3.8/site-packages (from transformers) (0.8.1)\n",
      "Requirement already satisfied: requests in /home/skirui/anaconda3/envs/week2/lib/python3.8/site-packages (from transformers) (2.28.1)\n",
      "Requirement already satisfied: numpy>=1.17 in /home/skirui/anaconda3/envs/week2/lib/python3.8/site-packages (from transformers) (1.23.0)\n",
      "Requirement already satisfied: packaging>=20.0 in /home/skirui/anaconda3/envs/week2/lib/python3.8/site-packages (from transformers) (21.3)\n",
      "Requirement already satisfied: tqdm>=4.27 in /home/skirui/anaconda3/envs/week2/lib/python3.8/site-packages (from transformers) (4.64.0)\n",
      "Requirement already satisfied: tokenizers!=0.11.3,<0.13,>=0.11.1 in /home/skirui/anaconda3/envs/week2/lib/python3.8/site-packages (from transformers) (0.12.1)\n",
      "Requirement already satisfied: typing-extensions in /home/skirui/anaconda3/envs/week2/lib/python3.8/site-packages (from torch) (4.3.0)\n",
      "Requirement already satisfied: pyparsing!=3.0.5,>=2.0.2 in /home/skirui/anaconda3/envs/week2/lib/python3.8/site-packages (from packaging>=20.0->transformers) (3.0.9)\n",
      "Requirement already satisfied: idna<4,>=2.5 in /home/skirui/anaconda3/envs/week2/lib/python3.8/site-packages (from requests->transformers) (3.3)\n",
      "Requirement already satisfied: charset-normalizer<3,>=2 in /home/skirui/anaconda3/envs/week2/lib/python3.8/site-packages (from requests->transformers) (2.1.0)\n",
      "Requirement already satisfied: certifi>=2017.4.17 in /home/skirui/anaconda3/envs/week2/lib/python3.8/site-packages (from requests->transformers) (2022.6.15)\n",
      "Requirement already satisfied: urllib3<1.27,>=1.21.1 in /home/skirui/anaconda3/envs/week2/lib/python3.8/site-packages (from requests->transformers) (1.26.9)\n",
      "Requirement already satisfied: emoji==0.6.0 in /home/skirui/anaconda3/envs/week2/lib/python3.8/site-packages (0.6.0)\n"
     ]
    },
    {
     "name": "stderr",
     "output_type": "stream",
     "text": [
      "Downloading: 100%|█████████████████████████████████████████████████████████████████████████████████████████████████████████████████████████████████████████████████████| 1.13k/1.13k [00:00<00:00, 2.08MB/s]\n"
     ]
    }
   ],
   "source": [
    "!pip install appdirs\n",
    "!pip install  click\n",
    "!pip install mypy-extensions\n",
    "!pip install pathspec\n",
    "!pip install toml\n",
    "\n",
    "!pip install transformers torch\n",
    "!pip install emoji==0.6.0\n",
    "\n",
    "from transformers import pipeline\n",
    "\n",
    "pinstall = pipeline(model=\"finiteautomata/bertweet-base-sentiment-analysis\")"
   ]
  },
  {
   "cell_type": "code",
   "execution_count": null,
   "id": "f5ebc2aa-df7a-4db3-9290-0ef5a577808e",
   "metadata": {},
   "outputs": [],
   "source": []
  }
 ],
 "metadata": {
  "kernelspec": {
   "display_name": "Python 3 (ipykernel)",
   "language": "python",
   "name": "python3"
  },
  "language_info": {
   "codemirror_mode": {
    "name": "ipython",
    "version": 3
   },
   "file_extension": ".py",
   "mimetype": "text/x-python",
   "name": "python",
   "nbconvert_exporter": "python",
   "pygments_lexer": "ipython3",
   "version": "3.8.13"
  }
 },
 "nbformat": 4,
 "nbformat_minor": 5
}
