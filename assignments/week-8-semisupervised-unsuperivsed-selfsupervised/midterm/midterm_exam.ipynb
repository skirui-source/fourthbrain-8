{
 "cells": [
  {
   "cell_type": "markdown",
   "id": "d969b387-151f-47e8-9212-040d16db4149",
   "metadata": {},
   "source": [
    "<p align = \"center\" draggable=”false” ><img src=\"https://user-images.githubusercontent.com/37101144/161836199-fdb0219d-0361-4988-bf26-48b0fad160a3.png\" \n",
    "     width=\"200px\"\n",
    "     height=\"auto\"/>\n",
    "</p>"
   ]
  },
  {
   "cell_type": "markdown",
   "id": "a364499e-69db-421b-9432-af32114457cf",
   "metadata": {},
   "source": [
    "# Online Purchasing Consumer Behavior Analysis"
   ]
  },
  {
   "cell_type": "markdown",
   "id": "d03b8cfb-c6cf-48ad-9c04-9cce173bec42",
   "metadata": {},
   "source": [
    "The data is in `dat/online_shoppers_intention.csv.gz`, from [Online Shoppers Purchasing Intention Dataset](https://archive.ics.uci.edu/ml/datasets/Online+Shoppers+Purchasing+Intention+Dataset). The dataset consists of feature vectors belonging to 12,330 sessions, each session belongs to a different user in a 1-year period to avoid any tendency to a specific campaign, special day, user profile, or period."
   ]
  },
  {
   "cell_type": "code",
   "execution_count": null,
   "id": "f48fc4f8-5ed4-4a14-a195-feb31c50148d",
   "metadata": {},
   "outputs": [],
   "source": []
  },
  {
   "cell_type": "code",
   "execution_count": null,
   "id": "7c0a7b7d-5b85-408f-b5dd-a75357c0c509",
   "metadata": {},
   "outputs": [],
   "source": [
    "from IPython.core.interactiveshell import InteractiveShell\n",
    "InteractiveShell.ast_node_interactivity = \"all\" # allow multiple outputs in a cell\n",
    "\n",
    "import warnings\n",
    "warnings.filterwarnings(\"ignore\")"
   ]
  },
  {
   "cell_type": "code",
   "execution_count": null,
   "id": "d897f85d-aac6-409d-9fef-a1d86f104305",
   "metadata": {},
   "outputs": [],
   "source": []
  },
  {
   "cell_type": "markdown",
   "id": "53bfe51a-ae1f-44da-a99f-90283336f387",
   "metadata": {},
   "source": [
    "## **Task 1: Classification (50 points)**\n",
    "Build a predictive classification model using data entries corresponding to the months of June—December as training set, and those corresponding to February—March as test set. \n",
    "\n",
    "More specifically,\n",
    "1. Fit a logistic regression and at least one other classification model. Find and explain important features.\n",
    "2. Report and interpret the most meaningful classifications metrics\n",
    "3. Show and explain the hyper-parameter fitting process."
   ]
  },
  {
   "cell_type": "markdown",
   "id": "343c782d-ee69-4bf9-9c37-b8cb741ebbee",
   "metadata": {},
   "source": [
    "### Data Overview"
   ]
  },
  {
   "cell_type": "code",
   "execution_count": 1,
   "id": "3f8613d5-3dba-4496-aa34-792be968fa59",
   "metadata": {},
   "outputs": [],
   "source": [
    "import pandas as pd\n",
    "import numpy as np\n"
   ]
  },
  {
   "cell_type": "code",
   "execution_count": 2,
   "id": "d04184ab-01dd-4abb-981e-41bc645847ac",
   "metadata": {},
   "outputs": [],
   "source": [
    "filepath = \"dat/online_shoppers_intention.csv.gz\"\n",
    "data = pd.read_csv(filepath)"
   ]
  },
  {
   "cell_type": "code",
   "execution_count": 3,
   "id": "c5c66fb0-0188-4888-ad6c-66c0ea7ec8e9",
   "metadata": {},
   "outputs": [
    {
     "data": {
      "text/html": [
       "<div>\n",
       "<style scoped>\n",
       "    .dataframe tbody tr th:only-of-type {\n",
       "        vertical-align: middle;\n",
       "    }\n",
       "\n",
       "    .dataframe tbody tr th {\n",
       "        vertical-align: top;\n",
       "    }\n",
       "\n",
       "    .dataframe thead th {\n",
       "        text-align: right;\n",
       "    }\n",
       "</style>\n",
       "<table border=\"1\" class=\"dataframe\">\n",
       "  <thead>\n",
       "    <tr style=\"text-align: right;\">\n",
       "      <th></th>\n",
       "      <th>Administrative</th>\n",
       "      <th>Administrative_Duration</th>\n",
       "      <th>Informational</th>\n",
       "      <th>Informational_Duration</th>\n",
       "      <th>ProductRelated</th>\n",
       "      <th>ProductRelated_Duration</th>\n",
       "      <th>BounceRates</th>\n",
       "      <th>ExitRates</th>\n",
       "      <th>PageValues</th>\n",
       "      <th>SpecialDay</th>\n",
       "      <th>Month</th>\n",
       "      <th>OperatingSystems</th>\n",
       "      <th>Browser</th>\n",
       "      <th>Region</th>\n",
       "      <th>TrafficType</th>\n",
       "      <th>VisitorType</th>\n",
       "      <th>Weekend</th>\n",
       "      <th>Revenue</th>\n",
       "    </tr>\n",
       "  </thead>\n",
       "  <tbody>\n",
       "    <tr>\n",
       "      <th>650</th>\n",
       "      <td>0</td>\n",
       "      <td>0.000000</td>\n",
       "      <td>0</td>\n",
       "      <td>0.0</td>\n",
       "      <td>2</td>\n",
       "      <td>5.000000</td>\n",
       "      <td>0.000000</td>\n",
       "      <td>0.100000</td>\n",
       "      <td>0.000000</td>\n",
       "      <td>0.0</td>\n",
       "      <td>Mar</td>\n",
       "      <td>2</td>\n",
       "      <td>2</td>\n",
       "      <td>1</td>\n",
       "      <td>13</td>\n",
       "      <td>Returning_Visitor</td>\n",
       "      <td>True</td>\n",
       "      <td>False</td>\n",
       "    </tr>\n",
       "    <tr>\n",
       "      <th>6105</th>\n",
       "      <td>5</td>\n",
       "      <td>153.000000</td>\n",
       "      <td>0</td>\n",
       "      <td>0.0</td>\n",
       "      <td>25</td>\n",
       "      <td>1074.683333</td>\n",
       "      <td>0.012500</td>\n",
       "      <td>0.018750</td>\n",
       "      <td>19.232690</td>\n",
       "      <td>0.0</td>\n",
       "      <td>Nov</td>\n",
       "      <td>1</td>\n",
       "      <td>1</td>\n",
       "      <td>6</td>\n",
       "      <td>4</td>\n",
       "      <td>Returning_Visitor</td>\n",
       "      <td>False</td>\n",
       "      <td>False</td>\n",
       "    </tr>\n",
       "    <tr>\n",
       "      <th>4482</th>\n",
       "      <td>1</td>\n",
       "      <td>0.000000</td>\n",
       "      <td>0</td>\n",
       "      <td>0.0</td>\n",
       "      <td>31</td>\n",
       "      <td>1282.000000</td>\n",
       "      <td>0.031250</td>\n",
       "      <td>0.050000</td>\n",
       "      <td>0.000000</td>\n",
       "      <td>0.8</td>\n",
       "      <td>May</td>\n",
       "      <td>2</td>\n",
       "      <td>2</td>\n",
       "      <td>6</td>\n",
       "      <td>3</td>\n",
       "      <td>Returning_Visitor</td>\n",
       "      <td>False</td>\n",
       "      <td>False</td>\n",
       "    </tr>\n",
       "    <tr>\n",
       "      <th>2766</th>\n",
       "      <td>9</td>\n",
       "      <td>299.083333</td>\n",
       "      <td>1</td>\n",
       "      <td>0.0</td>\n",
       "      <td>14</td>\n",
       "      <td>212.833333</td>\n",
       "      <td>0.010526</td>\n",
       "      <td>0.033684</td>\n",
       "      <td>0.000000</td>\n",
       "      <td>0.0</td>\n",
       "      <td>May</td>\n",
       "      <td>3</td>\n",
       "      <td>2</td>\n",
       "      <td>1</td>\n",
       "      <td>11</td>\n",
       "      <td>Returning_Visitor</td>\n",
       "      <td>True</td>\n",
       "      <td>False</td>\n",
       "    </tr>\n",
       "    <tr>\n",
       "      <th>5966</th>\n",
       "      <td>4</td>\n",
       "      <td>103.800000</td>\n",
       "      <td>0</td>\n",
       "      <td>0.0</td>\n",
       "      <td>14</td>\n",
       "      <td>314.293333</td>\n",
       "      <td>0.000000</td>\n",
       "      <td>0.013333</td>\n",
       "      <td>79.443534</td>\n",
       "      <td>0.0</td>\n",
       "      <td>Jul</td>\n",
       "      <td>2</td>\n",
       "      <td>2</td>\n",
       "      <td>5</td>\n",
       "      <td>2</td>\n",
       "      <td>New_Visitor</td>\n",
       "      <td>False</td>\n",
       "      <td>True</td>\n",
       "    </tr>\n",
       "  </tbody>\n",
       "</table>\n",
       "</div>"
      ],
      "text/plain": [
       "      Administrative  Administrative_Duration  Informational  \\\n",
       "650                0                 0.000000              0   \n",
       "6105               5               153.000000              0   \n",
       "4482               1                 0.000000              0   \n",
       "2766               9               299.083333              1   \n",
       "5966               4               103.800000              0   \n",
       "\n",
       "      Informational_Duration  ProductRelated  ProductRelated_Duration  \\\n",
       "650                      0.0               2                 5.000000   \n",
       "6105                     0.0              25              1074.683333   \n",
       "4482                     0.0              31              1282.000000   \n",
       "2766                     0.0              14               212.833333   \n",
       "5966                     0.0              14               314.293333   \n",
       "\n",
       "      BounceRates  ExitRates  PageValues  SpecialDay Month  OperatingSystems  \\\n",
       "650      0.000000   0.100000    0.000000         0.0   Mar                 2   \n",
       "6105     0.012500   0.018750   19.232690         0.0   Nov                 1   \n",
       "4482     0.031250   0.050000    0.000000         0.8   May                 2   \n",
       "2766     0.010526   0.033684    0.000000         0.0   May                 3   \n",
       "5966     0.000000   0.013333   79.443534         0.0   Jul                 2   \n",
       "\n",
       "      Browser  Region  TrafficType        VisitorType  Weekend  Revenue  \n",
       "650         2       1           13  Returning_Visitor     True    False  \n",
       "6105        1       6            4  Returning_Visitor    False    False  \n",
       "4482        2       6            3  Returning_Visitor    False    False  \n",
       "2766        2       1           11  Returning_Visitor     True    False  \n",
       "5966        2       5            2        New_Visitor    False     True  "
      ]
     },
     "execution_count": 3,
     "metadata": {},
     "output_type": "execute_result"
    }
   ],
   "source": [
    "data.sample(5)"
   ]
  },
  {
   "cell_type": "code",
   "execution_count": 4,
   "id": "d40df580-32e5-4979-8e3a-5a5ea84e2ac0",
   "metadata": {},
   "outputs": [
    {
     "name": "stdout",
     "output_type": "stream",
     "text": [
      "Dataset has 12330 samples and 17 features\n"
     ]
    }
   ],
   "source": [
    "print(\"Dataset has {} samples and {} features\".\\\n",
    "                  format(data.shape[0], data.shape[1]-1))"
   ]
  },
  {
   "cell_type": "code",
   "execution_count": 5,
   "id": "0e798870-e7ff-4c32-a459-50074898c38b",
   "metadata": {},
   "outputs": [
    {
     "name": "stdout",
     "output_type": "stream",
     "text": [
      "column data types: \n",
      "----\n"
     ]
    },
    {
     "data": {
      "text/plain": [
       "Administrative               int64\n",
       "Administrative_Duration    float64\n",
       "Informational                int64\n",
       "Informational_Duration     float64\n",
       "ProductRelated               int64\n",
       "ProductRelated_Duration    float64\n",
       "BounceRates                float64\n",
       "ExitRates                  float64\n",
       "PageValues                 float64\n",
       "SpecialDay                 float64\n",
       "Month                       object\n",
       "OperatingSystems             int64\n",
       "Browser                      int64\n",
       "Region                       int64\n",
       "TrafficType                  int64\n",
       "VisitorType                 object\n",
       "Weekend                       bool\n",
       "Revenue                       bool\n",
       "dtype: object"
      ]
     },
     "execution_count": 5,
     "metadata": {},
     "output_type": "execute_result"
    }
   ],
   "source": [
    "print(\"column data types: \")\n",
    "print(\"----\")\n",
    "\n",
    "data.dtypes"
   ]
  },
  {
   "cell_type": "code",
   "execution_count": 6,
   "id": "9e06f9a7-5bf2-4548-88ab-c1cb49622aae",
   "metadata": {},
   "outputs": [
    {
     "name": "stdout",
     "output_type": "stream",
     "text": [
      "number of unique values per column: \n",
      "----\n"
     ]
    },
    {
     "data": {
      "text/plain": [
       "Administrative               27\n",
       "Administrative_Duration    3335\n",
       "Informational                17\n",
       "Informational_Duration     1258\n",
       "ProductRelated              311\n",
       "ProductRelated_Duration    9551\n",
       "BounceRates                1872\n",
       "ExitRates                  4777\n",
       "PageValues                 2704\n",
       "SpecialDay                    6\n",
       "Month                        10\n",
       "OperatingSystems              8\n",
       "Browser                      13\n",
       "Region                        9\n",
       "TrafficType                  20\n",
       "VisitorType                   3\n",
       "Weekend                       2\n",
       "Revenue                       2\n",
       "dtype: int64"
      ]
     },
     "execution_count": 6,
     "metadata": {},
     "output_type": "execute_result"
    }
   ],
   "source": [
    "print(\"number of unique values per column: \")\n",
    "print(\"----\" )\n",
    "\n",
    "data.nunique()"
   ]
  },
  {
   "cell_type": "code",
   "execution_count": 7,
   "id": "942a92c3-608d-4bc9-a150-be1dba8ce445",
   "metadata": {},
   "outputs": [
    {
     "name": "stdout",
     "output_type": "stream",
     "text": [
      "dataset has no missing values\n",
      "-----\n"
     ]
    },
    {
     "data": {
      "text/plain": [
       "Administrative             0\n",
       "Administrative_Duration    0\n",
       "Informational              0\n",
       "Informational_Duration     0\n",
       "ProductRelated             0\n",
       "ProductRelated_Duration    0\n",
       "BounceRates                0\n",
       "ExitRates                  0\n",
       "PageValues                 0\n",
       "SpecialDay                 0\n",
       "Month                      0\n",
       "OperatingSystems           0\n",
       "Browser                    0\n",
       "Region                     0\n",
       "TrafficType                0\n",
       "VisitorType                0\n",
       "Weekend                    0\n",
       "Revenue                    0\n",
       "dtype: int64"
      ]
     },
     "execution_count": 7,
     "metadata": {},
     "output_type": "execute_result"
    }
   ],
   "source": [
    "print(\"dataset has no missing values\")\n",
    "print(\"-----\")\n",
    "\n",
    "data.isna().sum()"
   ]
  },
  {
   "cell_type": "code",
   "execution_count": 8,
   "id": "e2f69121-1586-485c-94a1-21c5e6970151",
   "metadata": {},
   "outputs": [
    {
     "name": "stdout",
     "output_type": "stream",
     "text": [
      "Descriptive stats:\n",
      "----\n"
     ]
    },
    {
     "data": {
      "text/html": [
       "<div>\n",
       "<style scoped>\n",
       "    .dataframe tbody tr th:only-of-type {\n",
       "        vertical-align: middle;\n",
       "    }\n",
       "\n",
       "    .dataframe tbody tr th {\n",
       "        vertical-align: top;\n",
       "    }\n",
       "\n",
       "    .dataframe thead th {\n",
       "        text-align: right;\n",
       "    }\n",
       "</style>\n",
       "<table border=\"1\" class=\"dataframe\">\n",
       "  <thead>\n",
       "    <tr style=\"text-align: right;\">\n",
       "      <th></th>\n",
       "      <th>count</th>\n",
       "      <th>mean</th>\n",
       "      <th>std</th>\n",
       "      <th>min</th>\n",
       "      <th>25%</th>\n",
       "      <th>50%</th>\n",
       "      <th>75%</th>\n",
       "      <th>max</th>\n",
       "    </tr>\n",
       "  </thead>\n",
       "  <tbody>\n",
       "    <tr>\n",
       "      <th>Administrative</th>\n",
       "      <td>12330.0</td>\n",
       "      <td>2.315166</td>\n",
       "      <td>3.321784</td>\n",
       "      <td>0.0</td>\n",
       "      <td>0.000000</td>\n",
       "      <td>1.000000</td>\n",
       "      <td>4.000000</td>\n",
       "      <td>27.000000</td>\n",
       "    </tr>\n",
       "    <tr>\n",
       "      <th>Administrative_Duration</th>\n",
       "      <td>12330.0</td>\n",
       "      <td>80.818611</td>\n",
       "      <td>176.779107</td>\n",
       "      <td>0.0</td>\n",
       "      <td>0.000000</td>\n",
       "      <td>7.500000</td>\n",
       "      <td>93.256250</td>\n",
       "      <td>3398.750000</td>\n",
       "    </tr>\n",
       "    <tr>\n",
       "      <th>Informational</th>\n",
       "      <td>12330.0</td>\n",
       "      <td>0.503569</td>\n",
       "      <td>1.270156</td>\n",
       "      <td>0.0</td>\n",
       "      <td>0.000000</td>\n",
       "      <td>0.000000</td>\n",
       "      <td>0.000000</td>\n",
       "      <td>24.000000</td>\n",
       "    </tr>\n",
       "    <tr>\n",
       "      <th>Informational_Duration</th>\n",
       "      <td>12330.0</td>\n",
       "      <td>34.472398</td>\n",
       "      <td>140.749294</td>\n",
       "      <td>0.0</td>\n",
       "      <td>0.000000</td>\n",
       "      <td>0.000000</td>\n",
       "      <td>0.000000</td>\n",
       "      <td>2549.375000</td>\n",
       "    </tr>\n",
       "    <tr>\n",
       "      <th>ProductRelated</th>\n",
       "      <td>12330.0</td>\n",
       "      <td>31.731468</td>\n",
       "      <td>44.475503</td>\n",
       "      <td>0.0</td>\n",
       "      <td>7.000000</td>\n",
       "      <td>18.000000</td>\n",
       "      <td>38.000000</td>\n",
       "      <td>705.000000</td>\n",
       "    </tr>\n",
       "    <tr>\n",
       "      <th>ProductRelated_Duration</th>\n",
       "      <td>12330.0</td>\n",
       "      <td>1194.746220</td>\n",
       "      <td>1913.669288</td>\n",
       "      <td>0.0</td>\n",
       "      <td>184.137500</td>\n",
       "      <td>598.936905</td>\n",
       "      <td>1464.157214</td>\n",
       "      <td>63973.522230</td>\n",
       "    </tr>\n",
       "    <tr>\n",
       "      <th>BounceRates</th>\n",
       "      <td>12330.0</td>\n",
       "      <td>0.022191</td>\n",
       "      <td>0.048488</td>\n",
       "      <td>0.0</td>\n",
       "      <td>0.000000</td>\n",
       "      <td>0.003112</td>\n",
       "      <td>0.016813</td>\n",
       "      <td>0.200000</td>\n",
       "    </tr>\n",
       "    <tr>\n",
       "      <th>ExitRates</th>\n",
       "      <td>12330.0</td>\n",
       "      <td>0.043073</td>\n",
       "      <td>0.048597</td>\n",
       "      <td>0.0</td>\n",
       "      <td>0.014286</td>\n",
       "      <td>0.025156</td>\n",
       "      <td>0.050000</td>\n",
       "      <td>0.200000</td>\n",
       "    </tr>\n",
       "    <tr>\n",
       "      <th>PageValues</th>\n",
       "      <td>12330.0</td>\n",
       "      <td>5.889258</td>\n",
       "      <td>18.568437</td>\n",
       "      <td>0.0</td>\n",
       "      <td>0.000000</td>\n",
       "      <td>0.000000</td>\n",
       "      <td>0.000000</td>\n",
       "      <td>361.763742</td>\n",
       "    </tr>\n",
       "    <tr>\n",
       "      <th>SpecialDay</th>\n",
       "      <td>12330.0</td>\n",
       "      <td>0.061427</td>\n",
       "      <td>0.198917</td>\n",
       "      <td>0.0</td>\n",
       "      <td>0.000000</td>\n",
       "      <td>0.000000</td>\n",
       "      <td>0.000000</td>\n",
       "      <td>1.000000</td>\n",
       "    </tr>\n",
       "    <tr>\n",
       "      <th>OperatingSystems</th>\n",
       "      <td>12330.0</td>\n",
       "      <td>2.124006</td>\n",
       "      <td>0.911325</td>\n",
       "      <td>1.0</td>\n",
       "      <td>2.000000</td>\n",
       "      <td>2.000000</td>\n",
       "      <td>3.000000</td>\n",
       "      <td>8.000000</td>\n",
       "    </tr>\n",
       "    <tr>\n",
       "      <th>Browser</th>\n",
       "      <td>12330.0</td>\n",
       "      <td>2.357097</td>\n",
       "      <td>1.717277</td>\n",
       "      <td>1.0</td>\n",
       "      <td>2.000000</td>\n",
       "      <td>2.000000</td>\n",
       "      <td>2.000000</td>\n",
       "      <td>13.000000</td>\n",
       "    </tr>\n",
       "    <tr>\n",
       "      <th>Region</th>\n",
       "      <td>12330.0</td>\n",
       "      <td>3.147364</td>\n",
       "      <td>2.401591</td>\n",
       "      <td>1.0</td>\n",
       "      <td>1.000000</td>\n",
       "      <td>3.000000</td>\n",
       "      <td>4.000000</td>\n",
       "      <td>9.000000</td>\n",
       "    </tr>\n",
       "    <tr>\n",
       "      <th>TrafficType</th>\n",
       "      <td>12330.0</td>\n",
       "      <td>4.069586</td>\n",
       "      <td>4.025169</td>\n",
       "      <td>1.0</td>\n",
       "      <td>2.000000</td>\n",
       "      <td>2.000000</td>\n",
       "      <td>4.000000</td>\n",
       "      <td>20.000000</td>\n",
       "    </tr>\n",
       "  </tbody>\n",
       "</table>\n",
       "</div>"
      ],
      "text/plain": [
       "                           count         mean          std  min         25%  \\\n",
       "Administrative           12330.0     2.315166     3.321784  0.0    0.000000   \n",
       "Administrative_Duration  12330.0    80.818611   176.779107  0.0    0.000000   \n",
       "Informational            12330.0     0.503569     1.270156  0.0    0.000000   \n",
       "Informational_Duration   12330.0    34.472398   140.749294  0.0    0.000000   \n",
       "ProductRelated           12330.0    31.731468    44.475503  0.0    7.000000   \n",
       "ProductRelated_Duration  12330.0  1194.746220  1913.669288  0.0  184.137500   \n",
       "BounceRates              12330.0     0.022191     0.048488  0.0    0.000000   \n",
       "ExitRates                12330.0     0.043073     0.048597  0.0    0.014286   \n",
       "PageValues               12330.0     5.889258    18.568437  0.0    0.000000   \n",
       "SpecialDay               12330.0     0.061427     0.198917  0.0    0.000000   \n",
       "OperatingSystems         12330.0     2.124006     0.911325  1.0    2.000000   \n",
       "Browser                  12330.0     2.357097     1.717277  1.0    2.000000   \n",
       "Region                   12330.0     3.147364     2.401591  1.0    1.000000   \n",
       "TrafficType              12330.0     4.069586     4.025169  1.0    2.000000   \n",
       "\n",
       "                                50%          75%           max  \n",
       "Administrative             1.000000     4.000000     27.000000  \n",
       "Administrative_Duration    7.500000    93.256250   3398.750000  \n",
       "Informational              0.000000     0.000000     24.000000  \n",
       "Informational_Duration     0.000000     0.000000   2549.375000  \n",
       "ProductRelated            18.000000    38.000000    705.000000  \n",
       "ProductRelated_Duration  598.936905  1464.157214  63973.522230  \n",
       "BounceRates                0.003112     0.016813      0.200000  \n",
       "ExitRates                  0.025156     0.050000      0.200000  \n",
       "PageValues                 0.000000     0.000000    361.763742  \n",
       "SpecialDay                 0.000000     0.000000      1.000000  \n",
       "OperatingSystems           2.000000     3.000000      8.000000  \n",
       "Browser                    2.000000     2.000000     13.000000  \n",
       "Region                     3.000000     4.000000      9.000000  \n",
       "TrafficType                2.000000     4.000000     20.000000  "
      ]
     },
     "execution_count": 8,
     "metadata": {},
     "output_type": "execute_result"
    }
   ],
   "source": [
    "print(\"Descriptive stats:\")\n",
    "print(\"----\")\n",
    "\n",
    "data.describe().T"
   ]
  },
  {
   "cell_type": "markdown",
   "id": "a5341477-2c45-41f9-bd36-8130aa1c885c",
   "metadata": {},
   "source": [
    "### Split into train and test dataset \n",
    "* months of June—December as training set, and those corresponding to February—March as test set.\n",
    "* Splitting  helps prevent \"leaking\" information about the testing data to the model, which in turns also prevents \"overfitting\""
   ]
  },
  {
   "cell_type": "code",
   "execution_count": 9,
   "id": "8bb191a4-6ef5-44c8-9183-e78bcd579a10",
   "metadata": {},
   "outputs": [],
   "source": [
    "month = data.Month.unique()"
   ]
  },
  {
   "cell_type": "code",
   "execution_count": 10,
   "id": "2b9ad909-c27d-42ff-b15a-a8db211a2595",
   "metadata": {},
   "outputs": [],
   "source": [
    "months_ = ['Jan', 'Feb', 'Mar', 'Apr', 'May', 'June',\\\n",
    "           'Jul', 'Aug', 'Sep', 'Oct', 'Nov','Dec']\n",
    "\n",
    "month_str2num = {s: i+1 for i, s in enumerate(months_)}\n",
    "\n",
    "data[\"Month\"] = data[\"Month\"].replace(month_str2num)"
   ]
  },
  {
   "cell_type": "code",
   "execution_count": 11,
   "id": "de49c762-cd53-46c2-a43f-559b71d49f35",
   "metadata": {},
   "outputs": [
    {
     "name": "stdout",
     "output_type": "stream",
     "text": [
      "before:   ['Feb' 'Mar' 'May' 'Oct' 'June' 'Jul' 'Aug' 'Nov' 'Sep' 'Dec']\n",
      "after:   [2, 3, 5, 10, 6, 7, 8, 11, 9, 12]\n"
     ]
    }
   ],
   "source": [
    "\n",
    "print(\"before:  \", month)\n",
    "print(\"after:  \", list(data.Month.unique()))"
   ]
  },
  {
   "cell_type": "code",
   "execution_count": 12,
   "id": "63cc5672-e5b7-4b33-bfb9-53bf3df17ea9",
   "metadata": {},
   "outputs": [],
   "source": [
    "\n",
    "train_df = data[data.Month >= 6]\n",
    "test_df = data[data.Month.isin([2,3])]"
   ]
  },
  {
   "cell_type": "code",
   "execution_count": 13,
   "id": "f7b144bf-db64-4a37-bf17-b221408e194f",
   "metadata": {},
   "outputs": [
    {
     "name": "stdout",
     "output_type": "stream",
     "text": [
      "Original set  --->  (12330, 18) \n",
      "Training set  --->  (6875, 18) \n",
      "Testing set   --->  (2091, 18)\n"
     ]
    }
   ],
   "source": [
    "print('Original set  ---> ', data.shape,\n",
    "      '\\nTraining set  ---> ', train_df.shape,\n",
    "      '\\nTesting set   ---> ', test_df.shape)"
   ]
  },
  {
   "cell_type": "code",
   "execution_count": null,
   "id": "6cf08cb8-5c0f-4123-b7c3-fcbad6ebbb4f",
   "metadata": {},
   "outputs": [],
   "source": []
  },
  {
   "cell_type": "markdown",
   "id": "402129cf-7a43-4b37-8d41-581223f55ec7",
   "metadata": {},
   "source": [
    "### Exploratory Data Analysis"
   ]
  },
  {
   "cell_type": "code",
   "execution_count": 14,
   "id": "f46cdbc4-f09d-46fd-a1dc-19a02847562f",
   "metadata": {},
   "outputs": [
    {
     "data": {
      "text/plain": [
       "Administrative               27\n",
       "Administrative_Duration    2504\n",
       "Informational                14\n",
       "Informational_Duration      964\n",
       "ProductRelated              302\n",
       "ProductRelated_Duration    6046\n",
       "BounceRates                1438\n",
       "ExitRates                  3268\n",
       "PageValues                 1673\n",
       "SpecialDay                    1\n",
       "Month                         7\n",
       "OperatingSystems              8\n",
       "Browser                      12\n",
       "Region                        9\n",
       "TrafficType                  15\n",
       "VisitorType                   3\n",
       "Weekend                       2\n",
       "Revenue                       2\n",
       "dtype: int64"
      ]
     },
     "execution_count": 14,
     "metadata": {},
     "output_type": "execute_result"
    }
   ],
   "source": [
    "train_df.nunique()"
   ]
  },
  {
   "cell_type": "markdown",
   "id": "1bc8c579-bb42-4c68-a51e-8f11ec44862b",
   "metadata": {},
   "source": [
    "* `SpecialDay` has only one unique value, offering no information. So we can safely ignore it for now\n",
    "* `Revenue` is a binary feature - - > should encode to its equivalent numerical repr. `[0, 1]`"
   ]
  },
  {
   "cell_type": "code",
   "execution_count": 15,
   "id": "3fa46089-0311-4d58-a0f4-4903f22cfdb5",
   "metadata": {},
   "outputs": [
    {
     "data": {
      "text/plain": [
       "array([False,  True])"
      ]
     },
     "execution_count": 15,
     "metadata": {},
     "output_type": "execute_result"
    }
   ],
   "source": [
    "rev = train_df[\"Revenue\"].unique()\n",
    "rev"
   ]
  },
  {
   "cell_type": "code",
   "execution_count": 18,
   "id": "fa654dec-0c93-4cd3-b385-454be990f8a8",
   "metadata": {},
   "outputs": [
    {
     "name": "stdout",
     "output_type": "stream",
     "text": [
      "before  : [False, True]\n",
      "after  : [0, 1]\n"
     ]
    },
    {
     "name": "stderr",
     "output_type": "stream",
     "text": [
      "/tmp/ipykernel_1516155/1286621185.py:1: SettingWithCopyWarning: \n",
      "A value is trying to be set on a copy of a slice from a DataFrame.\n",
      "Try using .loc[row_indexer,col_indexer] = value instead\n",
      "\n",
      "See the caveats in the documentation: https://pandas.pydata.org/pandas-docs/stable/user_guide/indexing.html#returning-a-view-versus-a-copy\n",
      "  train_df[\"Revenue\"] = train_df[\"Revenue\"].astype(int)\n"
     ]
    }
   ],
   "source": [
    "\n",
    "train_df[\"Revenue\"] = train_df[\"Revenue\"].astype(int)\n",
    "\n",
    "print(\"before  :\", list(rev))\n",
    "print(\"after  :\", list(train_df.Revenue.unique()))"
   ]
  },
  {
   "cell_type": "code",
   "execution_count": null,
   "id": "3e56603d-850d-4653-b80a-a18464da181b",
   "metadata": {},
   "outputs": [],
   "source": []
  },
  {
   "cell_type": "code",
   "execution_count": 19,
   "id": "c9d04d75-09c8-449a-a62a-7a6dbd337e6b",
   "metadata": {},
   "outputs": [
    {
     "data": {
      "text/plain": [
       "Administrative               int64\n",
       "Administrative_Duration    float64\n",
       "Informational                int64\n",
       "Informational_Duration     float64\n",
       "ProductRelated               int64\n",
       "ProductRelated_Duration    float64\n",
       "BounceRates                float64\n",
       "ExitRates                  float64\n",
       "PageValues                 float64\n",
       "SpecialDay                 float64\n",
       "Month                        int64\n",
       "OperatingSystems             int64\n",
       "Browser                      int64\n",
       "Region                       int64\n",
       "TrafficType                  int64\n",
       "VisitorType                 object\n",
       "Weekend                       bool\n",
       "Revenue                      int64\n",
       "dtype: object"
      ]
     },
     "execution_count": 19,
     "metadata": {},
     "output_type": "execute_result"
    }
   ],
   "source": [
    "train_df.dtypes"
   ]
  },
  {
   "cell_type": "code",
   "execution_count": 20,
   "id": "2332db57-e5d5-4e4c-8a28-de0120d357e0",
   "metadata": {},
   "outputs": [],
   "source": [
    "categoricalFeatures = [\"OperatingSystems\",\t\"Browser\", \"Region\", \\\n",
    "                              \"TrafficType\", \"VisitorType\", \"Weekend\"]"
   ]
  },
  {
   "cell_type": "code",
   "execution_count": 21,
   "id": "d18184f0-bb16-43d9-b4ea-1b6ae5b50fd5",
   "metadata": {},
   "outputs": [
    {
     "data": {
      "text/plain": [
       "['Administrative',\n",
       " 'Administrative_Duration',\n",
       " 'Informational',\n",
       " 'Informational_Duration',\n",
       " 'ProductRelated',\n",
       " 'ProductRelated_Duration',\n",
       " 'BounceRates',\n",
       " 'ExitRates',\n",
       " 'PageValues',\n",
       " 'SpecialDay',\n",
       " 'Month']"
      ]
     },
     "execution_count": 21,
     "metadata": {},
     "output_type": "execute_result"
    }
   ],
   "source": [
    "numericalFeatures = [name for name in train_df.columns \\\n",
    "                        if (name != \"Revenue\") &  (name not in categoricalFeatures)\n",
    "                    ]\n",
    "\n",
    "numericalFeatures"
   ]
  },
  {
   "cell_type": "code",
   "execution_count": 24,
   "id": "56cbbe34-b8f4-4636-8e75-1f1c88daf60d",
   "metadata": {},
   "outputs": [
    {
     "name": "stdout",
     "output_type": "stream",
     "text": [
      "                                 \u001b[1mNumeric Features Distribution                                  \n"
     ]
    },
    {
     "name": "stderr",
     "output_type": "stream",
     "text": [
      "/home/skirui/anaconda3/envs/midterm/lib/python3.8/site-packages/seaborn/distributions.py:2619: FutureWarning: `distplot` is a deprecated function and will be removed in a future version. Please adapt your code to use either `displot` (a figure-level function with similar flexibility) or `histplot` (an axes-level function for histograms).\n",
      "  warnings.warn(msg, FutureWarning)\n",
      "/home/skirui/anaconda3/envs/midterm/lib/python3.8/site-packages/seaborn/distributions.py:2619: FutureWarning: `distplot` is a deprecated function and will be removed in a future version. Please adapt your code to use either `displot` (a figure-level function with similar flexibility) or `histplot` (an axes-level function for histograms).\n",
      "  warnings.warn(msg, FutureWarning)\n",
      "/home/skirui/anaconda3/envs/midterm/lib/python3.8/site-packages/seaborn/distributions.py:2619: FutureWarning: `distplot` is a deprecated function and will be removed in a future version. Please adapt your code to use either `displot` (a figure-level function with similar flexibility) or `histplot` (an axes-level function for histograms).\n",
      "  warnings.warn(msg, FutureWarning)\n",
      "/home/skirui/anaconda3/envs/midterm/lib/python3.8/site-packages/seaborn/distributions.py:2619: FutureWarning: `distplot` is a deprecated function and will be removed in a future version. Please adapt your code to use either `displot` (a figure-level function with similar flexibility) or `histplot` (an axes-level function for histograms).\n",
      "  warnings.warn(msg, FutureWarning)\n",
      "/home/skirui/anaconda3/envs/midterm/lib/python3.8/site-packages/seaborn/distributions.py:2619: FutureWarning: `distplot` is a deprecated function and will be removed in a future version. Please adapt your code to use either `displot` (a figure-level function with similar flexibility) or `histplot` (an axes-level function for histograms).\n",
      "  warnings.warn(msg, FutureWarning)\n",
      "/home/skirui/anaconda3/envs/midterm/lib/python3.8/site-packages/seaborn/distributions.py:2619: FutureWarning: `distplot` is a deprecated function and will be removed in a future version. Please adapt your code to use either `displot` (a figure-level function with similar flexibility) or `histplot` (an axes-level function for histograms).\n",
      "  warnings.warn(msg, FutureWarning)\n",
      "/home/skirui/anaconda3/envs/midterm/lib/python3.8/site-packages/seaborn/distributions.py:2619: FutureWarning: `distplot` is a deprecated function and will be removed in a future version. Please adapt your code to use either `displot` (a figure-level function with similar flexibility) or `histplot` (an axes-level function for histograms).\n",
      "  warnings.warn(msg, FutureWarning)\n",
      "/home/skirui/anaconda3/envs/midterm/lib/python3.8/site-packages/seaborn/distributions.py:2619: FutureWarning: `distplot` is a deprecated function and will be removed in a future version. Please adapt your code to use either `displot` (a figure-level function with similar flexibility) or `histplot` (an axes-level function for histograms).\n",
      "  warnings.warn(msg, FutureWarning)\n",
      "/home/skirui/anaconda3/envs/midterm/lib/python3.8/site-packages/seaborn/distributions.py:2619: FutureWarning: `distplot` is a deprecated function and will be removed in a future version. Please adapt your code to use either `displot` (a figure-level function with similar flexibility) or `histplot` (an axes-level function for histograms).\n",
      "  warnings.warn(msg, FutureWarning)\n",
      "/home/skirui/anaconda3/envs/midterm/lib/python3.8/site-packages/seaborn/distributions.py:2619: FutureWarning: `distplot` is a deprecated function and will be removed in a future version. Please adapt your code to use either `displot` (a figure-level function with similar flexibility) or `histplot` (an axes-level function for histograms).\n",
      "  warnings.warn(msg, FutureWarning)\n",
      "/home/skirui/anaconda3/envs/midterm/lib/python3.8/site-packages/seaborn/distributions.py:316: UserWarning: Dataset has 0 variance; skipping density estimate. Pass `warn_singular=False` to disable this warning.\n",
      "  warnings.warn(msg, UserWarning)\n",
      "/home/skirui/anaconda3/envs/midterm/lib/python3.8/site-packages/seaborn/distributions.py:2619: FutureWarning: `distplot` is a deprecated function and will be removed in a future version. Please adapt your code to use either `displot` (a figure-level function with similar flexibility) or `histplot` (an axes-level function for histograms).\n",
      "  warnings.warn(msg, FutureWarning)\n"
     ]
    },
    {
     "data": {
      "image/png": "[encoded data removed]",
      "text/plain": [
       "<Figure size 1200x1200 with 11 Axes>"
      ]
     },
     "metadata": {},
     "output_type": "display_data"
    }
   ],
   "source": [
    "import matplotlib.pyplot as plt\n",
    "import seaborn as sns\n",
    "\n",
    "print('\\033[1mNumeric Features Distribution'.center(100))\n",
    "\n",
    "figsize = (12, 12) # (10,6)\n",
    "\n",
    "n=len(numericalFeatures)\n",
    "\n",
    "# histogram\n",
    "plt.figure(figsize=figsize)\n",
    "for i in range(len(numericalFeatures)):\n",
    "    plt.subplot(4, 3 ,i+1)\n",
    "    sns.distplot(train_df[numericalFeatures[i]]) \n",
    "plt.tight_layout();\n"
   ]
  },
  {
   "cell_type": "markdown",
   "id": "2461855f-6b79-4743-a80d-acea84acea77",
   "metadata": {},
   "source": [
    "❓ ** Observations: \n",
    "- BounceRate and ExitRate seem to be th eonly ones that have a semi -normala distribution, but not all\n",
    "- Definitely have to normalize to maintian uniformity and to avoid ----\n",
    "- SHould I add a plot of the correlations bw target and these numerical features "
   ]
  },
  {
   "cell_type": "code",
   "execution_count": null,
   "id": "6714016a-7e58-424e-bd2b-6d5cc5243fa6",
   "metadata": {},
   "outputs": [],
   "source": [
    "print('\\033[1mVisualising Categorical Features:'.center(100))\n",
    "\n",
    "plt.figure(figsize=(8, 12))\n",
    "\n",
    "for i in range(len(categoricalFeatures)):\n",
    "    plt.subplot(4, 2, i+1)\n",
    "    sns.countplot(train_df[categoricalFeatures[i]])\n",
    "plt.tight_layout();"
   ]
  },
  {
   "cell_type": "markdown",
   "id": "d20188b9-6710-4866-a681-83342ea4f96c",
   "metadata": {},
   "source": [
    "** Observations:\n",
    "- ss\n",
    "- ss\n",
    "- ss\n",
    "- lack of uniformity with the scale and dtypes, encoding needed (explain)"
   ]
  },
  {
   "cell_type": "code",
   "execution_count": null,
   "id": "94213aa1",
   "metadata": {},
   "outputs": [],
   "source": [
    "print(\"Row distribution (%) of some categorical features: \\n\" )\n",
    "for col in [\"VisitorType\", \"Weekend\", \"Revenue\"]:\n",
    "    print(train_df[col].value_counts()/len(train_df))\n",
    "    print(\"\\n\")"
   ]
  },
  {
   "cell_type": "code",
   "execution_count": null,
   "id": "4bd17d68-8453-44f9-9d47-befb8c49e10a",
   "metadata": {},
   "outputs": [],
   "source": []
  },
  {
   "cell_type": "markdown",
   "id": "b740f08b-5da3-4d15-961b-702687f90c71",
   "metadata": {},
   "source": [
    "### Feature Engineering"
   ]
  },
  {
   "cell_type": "code",
   "execution_count": null,
   "id": "6c4211dd-6431-435e-81c2-3a68839233b4",
   "metadata": {},
   "outputs": [],
   "source": [
    "x_train = train_df.drop(\"Revenue\", axis=1) #.values\n",
    "x_test = test_df.drop(\"Revenue\", axis=1)\n",
    "\n",
    "y_train = train_df[\"Revenue\"]\n",
    "y_test = test_df[\"Revenue\"]"
   ]
  },
  {
   "cell_type": "code",
   "execution_count": null,
   "id": "7e07cdea-7dcb-49bd-9c90-57221b9e5d6f",
   "metadata": {},
   "outputs": [],
   "source": [
    "x_train.shape"
   ]
  },
  {
   "cell_type": "markdown",
   "id": "f2c27847-1869-48ce-b53a-7fcedb022644",
   "metadata": {},
   "source": [
    "* As observed earlier, a majority of the numerical features dont have a normal distribution and should therefore be normalized, i.e \n",
    "scaled to be of a similar range using sckitik learn's `MinMaxScaler` \n",
    "* Similarly, some of the categorical features  need to be standardized using `OneHotEncoder`"
   ]
  },
  {
   "cell_type": "code",
   "execution_count": null,
   "id": "067b42e6-e764-412c-b449-2c2b6048a334",
   "metadata": {},
   "outputs": [],
   "source": [
    "from sklearn.preprocessing import MinMaxScaler\n",
    "from sklearn.preprocessing import OneHotEncoder\n",
    "\n",
    "def normalizer_encoder_func(x_train, x_test):\n",
    "    \"\"\"Function that handles the Normalization and Hot encoding \"\"\"\n",
    "    \n",
    "    scaler = MinMaxScaler() \n",
    "    x_train_num = scaler.fit_transform(x_train[numericalFeatures]) \n",
    "    x_test_num = scaler.transform(x_test[numericalFeatures]) \n",
    "    \n",
    "    \n",
    "    ohe = OneHotEncoder(handle_unknown='ignore',sparse = False)\n",
    "    x_train_cat = ohe.fit_transform(x_train[categoricalFeatures])\n",
    "    x_test_cat = ohe.transform(x_test[categoricalFeatures])\n",
    "    new_cat_features = list(ohe.get_feature_names_out(categoricalFeatures))\n",
    "    \n",
    "    \n",
    "    x_train_transformed = np.hstack([x_train_num, x_train_cat])\n",
    "    x_test_transformed = np.hstack([x_test_num, x_test_cat])\n",
    "\n",
    "    return  new_cat_features, x_train_transformed, x_test_transformed\n",
    "\n",
    "\n",
    "new_cat_features, X_train, X_test  = normalizer_encoder_func(x_train, x_test)\n"
   ]
  },
  {
   "cell_type": "code",
   "execution_count": null,
   "id": "f88b83bd-3fc9-4ed0-966c-ae33ee7f60f5",
   "metadata": {},
   "outputs": [],
   "source": [
    "df_train = pd.DataFrame(X_train, columns=numericalFeatures + new_cat_features )\n",
    "df_test  = pd.DataFrame(X_test, columns=numericalFeatures + new_cat_features )"
   ]
  },
  {
   "cell_type": "code",
   "execution_count": null,
   "id": "d3f8c2cc-9660-441a-b6f0-7512b14de0ac",
   "metadata": {},
   "outputs": [],
   "source": [
    "print(\"original train dataset ---> :\", train_df.shape)\n",
    "print(\"original test dataset  --->:\",  test_df.shape)\n",
    "\n",
    "print(\"\\n\")\n",
    "      \n",
    "print(\"transformed train dataset  ---> :\", df_train.shape)\n",
    "print(\"transformed test dataset  --->:\",   df_test.shape)"
   ]
  },
  {
   "cell_type": "code",
   "execution_count": null,
   "id": "e798b778-c236-41c9-88ef-325434acc062",
   "metadata": {},
   "outputs": [],
   "source": []
  },
  {
   "cell_type": "markdown",
   "id": "03a05849-01b7-499e-9dda-a9940c731bda",
   "metadata": {},
   "source": [
    "* Now that the data has been standardized, check for highly correlated features.\n",
    "* Use a smaller sample of the training dataset `test_small_df` to calculate and render the Pearson correlation heatmap.\n",
    "* I randomly decided to test correlation on 15% of the training dataset, which is ~1031 out of 6875 samples"
   ]
  },
  {
   "cell_type": "code",
   "execution_count": null,
   "id": "ed68e971-d040-410c-8a91-03a5cd02afd0",
   "metadata": {},
   "outputs": [],
   "source": [
    "n = int(.15 * df_train.shape[0])\n",
    "\n",
    "train_small_df = df_train.sample(n=n, random_state=12) \n",
    "train_small_df.shape"
   ]
  },
  {
   "cell_type": "code",
   "execution_count": null,
   "id": "b9244240-8aeb-48af-b9fd-d00b888865f2",
   "metadata": {},
   "outputs": [],
   "source": [
    "plt.figure(figsize=(8, 6))\n",
    "\n",
    "cor = train_small_df.corr() \n",
    "sns.heatmap(cor, vmin=-1, vmax=1, cmap=\"PiYG\");"
   ]
  },
  {
   "cell_type": "code",
   "execution_count": null,
   "id": "dcecb27c-6c15-4d97-9b2e-586f5c380b23",
   "metadata": {},
   "outputs": [],
   "source": [
    "cor"
   ]
  },
  {
   "cell_type": "code",
   "execution_count": null,
   "id": "acb23500-2f5f-4c2a-98f7-993599bae819",
   "metadata": {},
   "outputs": [],
   "source": []
  },
  {
   "cell_type": "markdown",
   "id": "d8e873f8-9484-4244-ad07-ed0301a99006",
   "metadata": {},
   "source": [
    "* Drop the features with high correlation.We'll do this by looking at each pair of features, and if they are highly correlated (at least 0.8), we won't include the second feature in the pair. \n",
    "* Store the remaining set of features (the ones you didn't drop) in dataframe `train_df_reduced`"
   ]
  },
  {
   "cell_type": "code",
   "execution_count": null,
   "id": "3fd5dc6b-780a-4af8-b2c4-6e344467f5c0",
   "metadata": {},
   "outputs": [],
   "source": [
    "cor.shape"
   ]
  },
  {
   "cell_type": "code",
   "execution_count": null,
   "id": "640739a2-ad98-4de0-a45a-f8013d07e284",
   "metadata": {},
   "outputs": [],
   "source": [
    "import numpy as np\n",
    "\n",
    "keep_columns = np.full(cor.shape[0], True)\n",
    "for i in range(cor.shape[0] - 1):\n",
    "    for j in range(i + 1, cor.shape[0] - 1):\n",
    "        if (np.abs(cor.iloc[i, j]) >= 0.8):\n",
    "            keep_columns[j] = False\n",
    "\n",
    "selected_columns = df_train.columns[keep_columns]\n"
   ]
  },
  {
   "cell_type": "code",
   "execution_count": null,
   "id": "2af655fa-37fb-4d3a-9389-50d40bc02190",
   "metadata": {},
   "outputs": [],
   "source": [
    "# Remove highly correlated variables in train and test data\n",
    "\n",
    "X_train_reduced = df_train[selected_columns]\n",
    "X_train_reduced.shape\n",
    "\n",
    "X_test_reduced = df_test[selected_columns] \n",
    "X_test_reduced.shape "
   ]
  },
  {
   "cell_type": "markdown",
   "id": "33b6a00d-9a43-44ba-8f4f-ae2ee4e4e313",
   "metadata": {},
   "source": [
    " **Observations: \n",
    "* Two features were removed due to high correlation : `ProductRelated_Duration` and `ExitRate' because\n",
    "* Product and ProductRelated_Duration are highly correlated ()\n",
    "* Same case between ExitRate and BounceRate"
   ]
  },
  {
   "cell_type": "code",
   "execution_count": null,
   "id": "4f842368-7987-4493-8a2d-e3ab59ad5289",
   "metadata": {},
   "outputs": [],
   "source": []
  },
  {
   "cell_type": "markdown",
   "id": "ee46eed3-62af-4c73-b790-b00713c81ef6",
   "metadata": {},
   "source": [
    "**QUESTION: - Does it matter much whether I transform dataset first then calculate correlation or the other way around? I ask because I tried getting the correlation before transforming and I noticed that the Pearson heatmap automatically removed some categorical columns (specifically `VisitorType`) so I decided to trasnform first"
   ]
  },
  {
   "cell_type": "code",
   "execution_count": null,
   "id": "d30772db-cf94-4c70-be66-e03f3a03e086",
   "metadata": {},
   "outputs": [],
   "source": []
  },
  {
   "cell_type": "markdown",
   "id": "4028e771-75b6-4dc4-ae6c-fc29d9902a7e",
   "metadata": {},
   "source": [
    "### Classification1:  Logistic Regression "
   ]
  },
  {
   "cell_type": "code",
   "execution_count": null,
   "id": "ffcec917-23dd-4717-9515-a3c76b7c24c0",
   "metadata": {},
   "outputs": [],
   "source": [
    "from sklearn.linear_model import LogisticRegression\n",
    "from sklearn.metrics import classification_report"
   ]
  },
  {
   "cell_type": "code",
   "execution_count": null,
   "id": "2d0af260-8746-4cf2-b929-517a231dbac4",
   "metadata": {},
   "outputs": [],
   "source": [
    "\n",
    "%time\n",
    "\n",
    "lr_model = LogisticRegression(class_weight='balanced') \n",
    "lr_model.fit(X_train_reduced, y_train)\n",
    "\n",
    "lr_pred = lr_model.predict(X_test_reduced) \n",
    "\n",
    "print(classification_report(y_test, lr_pred))\n"
   ]
  },
  {
   "cell_type": "markdown",
   "id": "04437f1a-9384-4f55-9bfe-f894d84397fa",
   "metadata": {},
   "source": [
    "** Discussion on Performance metrics: \n",
    "* ss\n",
    "* ss"
   ]
  },
  {
   "cell_type": "markdown",
   "id": "cd786e6f-c5ef-4106-958f-49c123c4f2eb",
   "metadata": {},
   "source": [
    "### Classification2:  Support Vector Machine (SVM)"
   ]
  },
  {
   "cell_type": "code",
   "execution_count": null,
   "id": "a8a80121-c919-46c7-b280-e05ca2f9faaf",
   "metadata": {},
   "outputs": [],
   "source": [
    "from sklearn.svm import LinearSVC\n",
    "\n",
    "%time\n",
    "svm_model = LinearSVC(class_weight='balanced') \n",
    "svm_model.fit(X_train_reduced,  y_train)\n",
    "\n",
    "svm_pred = svm_model.predict(X_test_reduced)\n",
    "\n",
    "print(classification_report(y_test, svm_pred))\n"
   ]
  },
  {
   "cell_type": "markdown",
   "id": "549b4647-d06e-4945-b09d-d3bf63e2a3e2",
   "metadata": {},
   "source": [
    "** Discussion on Peformance metrics: \n",
    "* ss\n",
    "* ss"
   ]
  },
  {
   "cell_type": "code",
   "execution_count": null,
   "id": "7b982abe-64d0-465c-9cdb-af5a817c5786",
   "metadata": {},
   "outputs": [],
   "source": []
  },
  {
   "cell_type": "markdown",
   "id": "81ba9f2f-d4d0-4ee3-8fe3-aa30d1a2ba50",
   "metadata": {},
   "source": [
    "## **Task 2. Customer Segmentation (25 points)**\n",
    "\n",
    "Generate user-behavior clusters based on the purchasing behavior data for the complete dataset.\n",
    "\n",
    "1. How many clusters do you see? What are the significant differences between the various clusters in terms of the size of the clusters and purchase ratio. Perform as detailed analysis of the clusters.\n",
    "2. Return plots and cluster images generated for the data.\n",
    "3. Perform a detailed analysis for each cluster corresponding to the variations in features and identify some behaviors corresponding to each particular cluster (e.g., which cluster represent new shoppers vs. brand conscious shoppers etc.)."
   ]
  },
  {
   "cell_type": "markdown",
   "id": "0dd41180-2698-4a7b-8c99-e477224d9150",
   "metadata": {},
   "source": [
    "### PCA for Dimensionality reduction\n"
   ]
  },
  {
   "cell_type": "code",
   "execution_count": null,
   "id": "71f2f377-c030-4564-a9e3-441fb9501b0e",
   "metadata": {},
   "outputs": [],
   "source": [
    "X = train_df.drop(\"Revenue\", axis=1)\n",
    "y = train_df[\"Revenue\"]\n",
    "\n",
    "X.shape"
   ]
  },
  {
   "cell_type": "code",
   "execution_count": null,
   "id": "b784f7f0-7b8e-4a1f-a9b5-c0cc0fec0ea0",
   "metadata": {},
   "outputs": [],
   "source": [
    "from sklearn.decomposition import PCA\n",
    "\n",
    "# normalize data before applying PCA- \n",
    "def preprocess(X):\n",
    "    scaler = MinMaxScaler() \n",
    "    X_num = scaler.fit_transform(X[numericalFeatures]) \n",
    "    \n",
    "    ohe = OneHotEncoder(handle_unknown='ignore',sparse = False)\n",
    "    X_cat = ohe.fit_transform(X[categoricalFeatures])\n",
    "    new_cat_features = list(ohe.get_feature_names_out(categoricalFeatures))\n",
    "    \n",
    "    X_transformed = np.hstack([X_num, X_cat])\n",
    "    \n",
    "    \n",
    "    return  new_cat_features, X_transformed\n",
    "\n",
    "new_cat_features, X_transformed  = preprocess(X)\n"
   ]
  },
  {
   "cell_type": "code",
   "execution_count": null,
   "id": "9161be96-530d-4990-8a06-48d2ce038b8b",
   "metadata": {},
   "outputs": [],
   "source": [
    "\n",
    "pca = PCA(n_components=10, random_state=42, whiten=True)\n",
    "X_reduced = pca.fit_transform(X_transformed)"
   ]
  },
  {
   "cell_type": "code",
   "execution_count": null,
   "id": "8bacd4fb-6566-48fb-9953-b98b66cfade3",
   "metadata": {},
   "outputs": [],
   "source": [
    "X_reduced.shape   # reduced from 17 - > 10 features"
   ]
  },
  {
   "cell_type": "code",
   "execution_count": null,
   "id": "803dac11-c708-49d6-81c0-454646eda0e2",
   "metadata": {},
   "outputs": [],
   "source": [
    "print(\"Explained variation per principal component:\", \"\\n\")\n",
    "print(pca.explained_variance_ratio_)"
   ]
  },
  {
   "cell_type": "markdown",
   "id": "f0307a58-96e4-4bbf-8060-04714c063086",
   "metadata": {},
   "source": [
    "### KMeans on reduced data- "
   ]
  },
  {
   "cell_type": "code",
   "execution_count": null,
   "id": "ceb0f05d-1844-402c-95dc-1e1b809bc85a",
   "metadata": {},
   "outputs": [],
   "source": [
    "from sklearn.cluster import KMeans\n",
    "\n",
    "\n",
    "def visualize_elbow(X, ks):\n",
    "    fig, ax = plt.subplots()\n",
    "    inertias = []\n",
    "    for k in ks:\n",
    "        my_cluster = KMeans(init=\"k-means++\", n_clusters=k, random_state=10).fit(X) \n",
    "        inertias.append(my_cluster.inertia_) \n",
    "    plt.plot(ks, inertias)\n",
    "    plt.xticks(ks)\n",
    "    plt.xlabel('Number of clusters')\n",
    "    plt.ylabel('Inertia')\n",
    "    plt.title('Elbow plot')"
   ]
  },
  {
   "cell_type": "code",
   "execution_count": null,
   "id": "50112c79-f19a-4792-bfa6-b0572ef2f899",
   "metadata": {},
   "outputs": [],
   "source": [
    "visualize_elbow(X_reduced, ks=range(2,10))"
   ]
  },
  {
   "cell_type": "markdown",
   "id": "5455411f-064c-4ac1-943d-c8523bed83b4",
   "metadata": {},
   "source": [
    "** **Discussion:** \n",
    "- unclear???  but looks like close to 5 can be an elbow\n",
    "- use silhoutte scores to confirm"
   ]
  },
  {
   "cell_type": "code",
   "execution_count": null,
   "id": "3edf589a-8972-4add-87c9-30682cbf1cdc",
   "metadata": {},
   "outputs": [],
   "source": [
    "from utils import visualize_silhouette\n",
    "\n",
    "visualize_silhouette(max_clusters=8, X=X_reduced)"
   ]
  },
  {
   "cell_type": "markdown",
   "id": "9fac3b18-ce24-4733-aeb8-82cff2a5f1e2",
   "metadata": {},
   "source": [
    "****Discussion**: Consider the following when analysing for the optimat k-value\n",
    "\n",
    "- Scores << average silhouette score = unacceptable\n",
    "- Negative scores = assigned to wrong clusters\n",
    "- Scores near 0 = close to decision boundary\n",
    "\n",
    "Given the criteria above, all plots above contain negative values and low silhouette scores (significantly << 1). Thus my judgment is based on a comparison of the average silhoutte score for {k=4 : 0.219, k=5 : 0.225, k=8 : 0.220}\n",
    "\n",
    "I think k=8 is the better option because we get clusters of relatively similar sizes"
   ]
  },
  {
   "cell_type": "code",
   "execution_count": null,
   "id": "512b31f8-e2cc-41cd-a56c-3aeaef79a8ca",
   "metadata": {},
   "outputs": [],
   "source": [
    "# YOUR CODE HERE\n",
    "km = KMeans(n_clusters=5, random_state=0)\n",
    "km.fit(X_reduced)\n",
    "\n",
    "\n",
    "\n",
    "# check the size of each cluster\n",
    "clusters_size = pd.DataFrame(km.labels_, columns=[\"cluster\"]).value_counts() \\\n",
    "                                .reset_index().rename(columns={0:'size'}).set_index(\"cluster\") \\\n",
    "                                        .sort_index()\n",
    "clusters_size\n",
    "\n",
    "\n",
    "# Create a new column with values as predicted cluster index predicted by km.\n",
    "\n",
    "train_df[\"cluster_pca\"] = km.predict(X_reduced)\n",
    "train_df.head(5)\n",
    "\n",
    "\n",
    "clusters_size['%']=  clusters_size[\"size\"]/len(X_reduced)\n",
    "cs = clusters_size.sort_index()\n",
    "print(cs)\n",
    "\n",
    "print(\"% of sessions resulting in revenues per cluster: \")\n",
    "train_df.groupby(\"cluster_pca\")[\"Revenue\"].mean()"
   ]
  },
  {
   "cell_type": "code",
   "execution_count": null,
   "id": "8a607de5-8786-4dd4-85f9-9673b54b4b14",
   "metadata": {},
   "outputs": [],
   "source": [
    "# MAYBE COPY SOME OF HERS -IDGAF ANYMROE UGH "
   ]
  },
  {
   "cell_type": "code",
   "execution_count": null,
   "id": "c4ef9094-f94f-413b-bba1-1a7e0e26fa7b",
   "metadata": {},
   "outputs": [],
   "source": []
  },
  {
   "cell_type": "code",
   "execution_count": null,
   "id": "24bd0cb0-6990-4d41-a18a-bda53ddeb6f9",
   "metadata": {},
   "outputs": [],
   "source": []
  },
  {
   "cell_type": "markdown",
   "id": "ed2df576-b7d0-4c55-a4d7-6ab901b92bf9",
   "metadata": {},
   "source": [
    "## **Task 3. Semi-Supervised Learning (15 points)**"
   ]
  },
  {
   "cell_type": "markdown",
   "id": "09210556-2175-431c-ac70-dd942dbfbae7",
   "metadata": {},
   "source": [
    "Consider you have training data with the Revenue attribute for records from June—September only. For all records from October—December, however, Revenue attribute is missing. Build a semi-supervised self-labeling model to estimate Revenue for the missing records in October—December and then fit your classifier. Report classification performance on February—March data set with and without the self-labeled data.\n",
    "\n",
    "1. If you do not consider the records from October—December, generate the classification performance on test data\n",
    "2. After using the self-labeled data and training data together, does the classification performance on test data improve? Discuss which metrics are most important for your conclusion.\n"
   ]
  },
  {
   "cell_type": "code",
   "execution_count": null,
   "id": "0327effe-08b2-4408-b4fd-a516cd8dbd99",
   "metadata": {},
   "outputs": [],
   "source": [
    "X_train_labeled = train_df[train_df['Month'].isin([6, 7, 8, 9])] # self-labeled data \n",
    "X_train_unlabeled = train_df[train_df['Month'].isin([10, 11, 12])]   #  without self-labeled data \n",
    "\n",
    "y_train_labeled = X_train_labeled.pop(\"Revenue\")\n",
    "y_train_unlabeled = X_train_unlabeled.pop(\"Revenue\")"
   ]
  },
  {
   "cell_type": "code",
   "execution_count": null,
   "id": "94638872-f425-475d-ab5b-0d4f0cb3015e",
   "metadata": {},
   "outputs": [],
   "source": [
    "X_train = X_train_labeled + X_train_unlabeled\n",
    "y_train = y_train_labeled + y_train_unlabeled\n",
    "\n",
    "X_test = train_df[train_df[\"Month\"].isin([2, 3])]  # report performance with/ without self-labeled data \n",
    "y_test = X_test.pop(\"Revenue\")"
   ]
  },
  {
   "cell_type": "code",
   "execution_count": null,
   "id": "e931e52a-9ec2-4599-b086-3d0df33487f2",
   "metadata": {},
   "outputs": [],
   "source": [
    "print(\"labeled data samples: {}\".format(len(X_train_labeled)))\n",
    "print(\"unlabeled data samples: {}\".format(len(X_train_unlabeled)))"
   ]
  },
  {
   "cell_type": "code",
   "execution_count": null,
   "id": "c34f7315-be3f-42d2-85ba-ca98b6ff3384",
   "metadata": {},
   "outputs": [],
   "source": []
  },
  {
   "cell_type": "markdown",
   "id": "11285a7b-94a2-44e2-8dc2-1218dc16602b",
   "metadata": {},
   "source": [
    "### Classification performance on test data without labeled data "
   ]
  },
  {
   "cell_type": "code",
   "execution_count": null,
   "id": "54e04c12-5b5e-4e9a-8e11-d7c85b645f72",
   "metadata": {},
   "outputs": [],
   "source": [
    "\n",
    "# without label spreading\n",
    "\n",
    "def train_classification(X_train, X_test, y_train, y_test, scale = True) -> None:\n",
    "    scaler = MinMaxScaler()\n",
    "    ohe = OneHotEncoder(handle_unknown='ignore', sparse=False)\n",
    "\n",
    "    if scale:\n",
    "        preprocessor = ColumnTransformer(\n",
    "            transformers=[\n",
    "                (\"num\", numeric_transformer, numeric_features),\n",
    "                (\"cat\", categorical_transformer, cat_features),\n",
    "                        ]\n",
    "                                        )    \n",
    "    else:\n",
    "        preprocessor = ColumnTransformer(\n",
    "            transformers=[\n",
    "                (\"cat\", categorical_transformer, cat_features),\n",
    "                        ]\n",
    "                                        )    \n",
    "    pipe = Pipeline(\n",
    "        steps=[(\"preprocessor\", preprocessor), (\"model\", LogisticRegression(class_weight='balanced'))]\n",
    "                   )\n",
    "\n",
    "    pipe.fit(X_train,y_train)\n",
    "    y_pred = pipe.predict(X_test)\n",
    "    print(classification_report(y_test, y_pred))\n",
    "    \n",
    "train_classification(X_train,X_test, y_train, y_test, scale=True)"
   ]
  },
  {
   "cell_type": "code",
   "execution_count": null,
   "id": "367c0c08-ea27-428f-83dc-9bac55c7d6ad",
   "metadata": {},
   "outputs": [],
   "source": []
  },
  {
   "cell_type": "code",
   "execution_count": null,
   "id": "38034519-a964-46c3-8226-a79b978899f9",
   "metadata": {},
   "outputs": [],
   "source": []
  }
 ],
 "metadata": {
  "kernelspec": {
   "display_name": "Python 3 (ipykernel)",
   "language": "python",
   "name": "python3"
  },
  "language_info": {
   "codemirror_mode": {
    "name": "ipython",
    "version": 3
   },
   "file_extension": ".py",
   "mimetype": "text/x-python",
   "name": "python",
   "nbconvert_exporter": "python",
   "pygments_lexer": "ipython3",
   "version": "3.8.13"
  }
 },
 "nbformat": 4,
 "nbformat_minor": 5
}
