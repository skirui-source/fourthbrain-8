{
 "cells": [
  {
   "cell_type": "markdown",
   "id": "b04a2a7b-95f0-4b5f-97d4-acb89b12c301",
   "metadata": {},
   "source": [
    "# **mle8- midterm**\n",
    "#### Sheilah K. (@skirui-source)"
   ]
  },
  {
   "cell_type": "markdown",
   "id": "2229c59a-d52c-4620-be97-835ae1364db0",
   "metadata": {},
   "source": [
    "The objective of this assignment is to perform an intensive analysis of consumer behavioral, applying techniques ranging from supervised, unsupervised learning, as well as semi-supervised learning."
   ]
  },
  {
   "cell_type": "code",
   "execution_count": 1,
   "id": "c7809bd6-59ff-4b99-bdd3-22665cc73e00",
   "metadata": {},
   "outputs": [],
   "source": [
    "from IPython.core.interactiveshell import InteractiveShell\n",
    "import warnings\n",
    "\n",
    "InteractiveShell.ast_node_interactivity = \"all\" # allow multiple outputs in a cell\n",
    "warnings.filterwarnings(\"ignore\")"
   ]
  },
  {
   "cell_type": "markdown",
   "id": "e5cfc7ee-00c2-4c13-b165-1115f6e81ba2",
   "metadata": {},
   "source": [
    "## **Task 1: Classification (50 points)**"
   ]
  },
  {
   "cell_type": "markdown",
   "id": "53bfe51a-ae1f-44da-a99f-90283336f387",
   "metadata": {},
   "source": [
    "Build a predictive classification model using data entries corresponding to the months of June—December as training set, and those corresponding to February—March as test set.\n",
    "\n",
    "More specifically,\n",
    "\n",
    "1. Fit a logistic regression and at least one other classification model. Find and explain important features.\n",
    "2. Report and interpret the most meaningful classifications metrics\n",
    "3. Show and explain the hyper-parameter fitting process."
   ]
  },
  {
   "cell_type": "markdown",
   "id": "e24d8eca-7f83-4d4d-921e-8e620b927482",
   "metadata": {},
   "source": [
    "### (10 points) Exploratory data analysis\n",
    "- Load and exmine data, appropriate univariate/ bivariate descriptive statistics and figures\n",
    "- other advanced EDA methods"
   ]
  },
  {
   "cell_type": "code",
   "execution_count": 2,
   "id": "14b9488c-66f4-4993-b9e7-17431b4bc227",
   "metadata": {},
   "outputs": [],
   "source": [
    "import numpy as np\n",
    "import pandas as pd\n",
    "import matplotlib.pyplot as plt\n",
    "import seaborn as sns"
   ]
  },
  {
   "cell_type": "code",
   "execution_count": 3,
   "id": "d04184ab-01dd-4abb-981e-41bc645847ac",
   "metadata": {},
   "outputs": [],
   "source": [
    "data = pd.read_csv(\"dat/online_shoppers_intention.csv.gz\")"
   ]
  },
  {
   "cell_type": "code",
   "execution_count": 4,
   "id": "d40df580-32e5-4979-8e3a-5a5ea84e2ac0",
   "metadata": {},
   "outputs": [
    {
     "data": {
      "text/plain": [
       "(12330, 18)"
      ]
     },
     "execution_count": 4,
     "metadata": {},
     "output_type": "execute_result"
    }
   ],
   "source": [
    "data.shape"
   ]
  },
  {
   "cell_type": "code",
   "execution_count": 6,
   "id": "c5c66fb0-0188-4888-ad6c-66c0ea7ec8e9",
   "metadata": {},
   "outputs": [
    {
     "data": {
      "text/html": [
       "<div>\n",
       "<style scoped>\n",
       "    .dataframe tbody tr th:only-of-type {\n",
       "        vertical-align: middle;\n",
       "    }\n",
       "\n",
       "    .dataframe tbody tr th {\n",
       "        vertical-align: top;\n",
       "    }\n",
       "\n",
       "    .dataframe thead th {\n",
       "        text-align: right;\n",
       "    }\n",
       "</style>\n",
       "<table border=\"1\" class=\"dataframe\">\n",
       "  <thead>\n",
       "    <tr style=\"text-align: right;\">\n",
       "      <th></th>\n",
       "      <th>Administrative</th>\n",
       "      <th>Administrative_Duration</th>\n",
       "      <th>Informational</th>\n",
       "      <th>Informational_Duration</th>\n",
       "      <th>ProductRelated</th>\n",
       "      <th>ProductRelated_Duration</th>\n",
       "      <th>BounceRates</th>\n",
       "      <th>ExitRates</th>\n",
       "      <th>PageValues</th>\n",
       "      <th>SpecialDay</th>\n",
       "      <th>Month</th>\n",
       "      <th>OperatingSystems</th>\n",
       "      <th>Browser</th>\n",
       "      <th>Region</th>\n",
       "      <th>TrafficType</th>\n",
       "      <th>VisitorType</th>\n",
       "      <th>Weekend</th>\n",
       "      <th>Revenue</th>\n",
       "    </tr>\n",
       "  </thead>\n",
       "  <tbody>\n",
       "    <tr>\n",
       "      <th>2411</th>\n",
       "      <td>2</td>\n",
       "      <td>89.75</td>\n",
       "      <td>1</td>\n",
       "      <td>89.0</td>\n",
       "      <td>49</td>\n",
       "      <td>2104.311400</td>\n",
       "      <td>0.009615</td>\n",
       "      <td>0.019542</td>\n",
       "      <td>8.979935</td>\n",
       "      <td>0.8</td>\n",
       "      <td>May</td>\n",
       "      <td>1</td>\n",
       "      <td>1</td>\n",
       "      <td>4</td>\n",
       "      <td>2</td>\n",
       "      <td>Returning_Visitor</td>\n",
       "      <td>False</td>\n",
       "      <td>False</td>\n",
       "    </tr>\n",
       "    <tr>\n",
       "      <th>7208</th>\n",
       "      <td>1</td>\n",
       "      <td>0.00</td>\n",
       "      <td>0</td>\n",
       "      <td>0.0</td>\n",
       "      <td>29</td>\n",
       "      <td>1085.900000</td>\n",
       "      <td>0.000000</td>\n",
       "      <td>0.007407</td>\n",
       "      <td>30.545963</td>\n",
       "      <td>0.0</td>\n",
       "      <td>Nov</td>\n",
       "      <td>2</td>\n",
       "      <td>2</td>\n",
       "      <td>1</td>\n",
       "      <td>4</td>\n",
       "      <td>New_Visitor</td>\n",
       "      <td>False</td>\n",
       "      <td>True</td>\n",
       "    </tr>\n",
       "    <tr>\n",
       "      <th>2188</th>\n",
       "      <td>5</td>\n",
       "      <td>724.50</td>\n",
       "      <td>0</td>\n",
       "      <td>0.0</td>\n",
       "      <td>23</td>\n",
       "      <td>867.333333</td>\n",
       "      <td>0.000000</td>\n",
       "      <td>0.000826</td>\n",
       "      <td>59.988000</td>\n",
       "      <td>0.0</td>\n",
       "      <td>May</td>\n",
       "      <td>1</td>\n",
       "      <td>1</td>\n",
       "      <td>1</td>\n",
       "      <td>2</td>\n",
       "      <td>Returning_Visitor</td>\n",
       "      <td>False</td>\n",
       "      <td>True</td>\n",
       "    </tr>\n",
       "    <tr>\n",
       "      <th>9475</th>\n",
       "      <td>3</td>\n",
       "      <td>74.50</td>\n",
       "      <td>1</td>\n",
       "      <td>88.0</td>\n",
       "      <td>113</td>\n",
       "      <td>3770.021698</td>\n",
       "      <td>0.008005</td>\n",
       "      <td>0.019005</td>\n",
       "      <td>14.850517</td>\n",
       "      <td>0.0</td>\n",
       "      <td>Dec</td>\n",
       "      <td>3</td>\n",
       "      <td>2</td>\n",
       "      <td>1</td>\n",
       "      <td>1</td>\n",
       "      <td>Returning_Visitor</td>\n",
       "      <td>True</td>\n",
       "      <td>False</td>\n",
       "    </tr>\n",
       "    <tr>\n",
       "      <th>1936</th>\n",
       "      <td>1</td>\n",
       "      <td>7.00</td>\n",
       "      <td>1</td>\n",
       "      <td>0.0</td>\n",
       "      <td>79</td>\n",
       "      <td>3380.691558</td>\n",
       "      <td>0.002667</td>\n",
       "      <td>0.023772</td>\n",
       "      <td>0.000000</td>\n",
       "      <td>0.0</td>\n",
       "      <td>Mar</td>\n",
       "      <td>2</td>\n",
       "      <td>2</td>\n",
       "      <td>3</td>\n",
       "      <td>2</td>\n",
       "      <td>Returning_Visitor</td>\n",
       "      <td>True</td>\n",
       "      <td>False</td>\n",
       "    </tr>\n",
       "  </tbody>\n",
       "</table>\n",
       "</div>"
      ],
      "text/plain": [
       "      Administrative  Administrative_Duration  Informational  \\\n",
       "2411               2                    89.75              1   \n",
       "7208               1                     0.00              0   \n",
       "2188               5                   724.50              0   \n",
       "9475               3                    74.50              1   \n",
       "1936               1                     7.00              1   \n",
       "\n",
       "      Informational_Duration  ProductRelated  ProductRelated_Duration  \\\n",
       "2411                    89.0              49              2104.311400   \n",
       "7208                     0.0              29              1085.900000   \n",
       "2188                     0.0              23               867.333333   \n",
       "9475                    88.0             113              3770.021698   \n",
       "1936                     0.0              79              3380.691558   \n",
       "\n",
       "      BounceRates  ExitRates  PageValues  SpecialDay Month  OperatingSystems  \\\n",
       "2411     0.009615   0.019542    8.979935         0.8   May                 1   \n",
       "7208     0.000000   0.007407   30.545963         0.0   Nov                 2   \n",
       "2188     0.000000   0.000826   59.988000         0.0   May                 1   \n",
       "9475     0.008005   0.019005   14.850517         0.0   Dec                 3   \n",
       "1936     0.002667   0.023772    0.000000         0.0   Mar                 2   \n",
       "\n",
       "      Browser  Region  TrafficType        VisitorType  Weekend  Revenue  \n",
       "2411        1       4            2  Returning_Visitor    False    False  \n",
       "7208        2       1            4        New_Visitor    False     True  \n",
       "2188        1       1            2  Returning_Visitor    False     True  \n",
       "9475        2       1            1  Returning_Visitor     True    False  \n",
       "1936        2       3            2  Returning_Visitor     True    False  "
      ]
     },
     "execution_count": 6,
     "metadata": {},
     "output_type": "execute_result"
    }
   ],
   "source": [
    "data.sample(5)"
   ]
  },
  {
   "cell_type": "code",
   "execution_count": 7,
   "id": "0e798870-e7ff-4c32-a459-50074898c38b",
   "metadata": {},
   "outputs": [
    {
     "data": {
      "text/plain": [
       "Administrative               int64\n",
       "Administrative_Duration    float64\n",
       "Informational                int64\n",
       "Informational_Duration     float64\n",
       "ProductRelated               int64\n",
       "ProductRelated_Duration    float64\n",
       "BounceRates                float64\n",
       "ExitRates                  float64\n",
       "PageValues                 float64\n",
       "SpecialDay                 float64\n",
       "Month                       object\n",
       "OperatingSystems             int64\n",
       "Browser                      int64\n",
       "Region                       int64\n",
       "TrafficType                  int64\n",
       "VisitorType                 object\n",
       "Weekend                       bool\n",
       "Revenue                       bool\n",
       "dtype: object"
      ]
     },
     "execution_count": 7,
     "metadata": {},
     "output_type": "execute_result"
    }
   ],
   "source": [
    "data.dtypes"
   ]
  },
  {
   "cell_type": "code",
   "execution_count": 8,
   "id": "942a92c3-608d-4bc9-a150-be1dba8ce445",
   "metadata": {},
   "outputs": [
    {
     "data": {
      "text/plain": [
       "Administrative             0\n",
       "Administrative_Duration    0\n",
       "Informational              0\n",
       "Informational_Duration     0\n",
       "ProductRelated             0\n",
       "ProductRelated_Duration    0\n",
       "BounceRates                0\n",
       "ExitRates                  0\n",
       "PageValues                 0\n",
       "SpecialDay                 0\n",
       "Month                      0\n",
       "OperatingSystems           0\n",
       "Browser                    0\n",
       "Region                     0\n",
       "TrafficType                0\n",
       "VisitorType                0\n",
       "Weekend                    0\n",
       "Revenue                    0\n",
       "dtype: int64"
      ]
     },
     "execution_count": 8,
     "metadata": {},
     "output_type": "execute_result"
    }
   ],
   "source": [
    "data.isna().sum()"
   ]
  },
  {
   "cell_type": "code",
   "execution_count": null,
   "id": "76b4b29c-ad36-4b1c-ab4e-d62db4f7077b",
   "metadata": {},
   "outputs": [],
   "source": []
  },
  {
   "cell_type": "markdown",
   "id": "a5341477-2c45-41f9-bd36-8130aa1c885c",
   "metadata": {},
   "source": [
    "#### Split dataset into train and test.\n",
    "\n",
    "We should perform EDA only on the training data, and not the entire dataset to avoid \"data leakage\", i.e exposing knowledge of the testing data's characteristics that could lead to \"overfitting\". I decided to do the standard 70-30% split"
   ]
  },
  {
   "cell_type": "code",
   "execution_count": null,
   "id": "1dfb0604-d744-451e-8631-9f1fb9024ce0",
   "metadata": {},
   "outputs": [],
   "source": [
    "from sklearn.model_selection import train_test_split\n",
    "\n",
    "X_train, X_test =  train_test_split(data, train_size=0.7, random_state=42)"
   ]
  },
  {
   "cell_type": "code",
   "execution_count": null,
   "id": "f7b144bf-db64-4a37-bf17-b221408e194f",
   "metadata": {},
   "outputs": [],
   "source": [
    "print('Original set  ---> ',data.shape,\n",
    "      '\\nTraining set  ---> ',X_train.shape,\n",
    "      '\\nTesting set   ---> ', X_test.shape)"
   ]
  },
  {
   "cell_type": "code",
   "execution_count": null,
   "id": "31728335-8051-4d36-8a4e-26690745fa4b",
   "metadata": {},
   "outputs": [],
   "source": [
    "X_train.sample(5)"
   ]
  },
  {
   "cell_type": "code",
   "execution_count": null,
   "id": "9e06f9a7-5bf2-4548-88ab-c1cb49622aae",
   "metadata": {},
   "outputs": [],
   "source": [
    "X_train.nunique()"
   ]
  },
  {
   "cell_type": "code",
   "execution_count": null,
   "id": "4d0d8ed1-a7f7-425e-8bf8-4b292072d652",
   "metadata": {},
   "outputs": [],
   "source": [
    "pd.options.display.float_format = \"{:,.2f}\".format\n",
    "X_train.describe()"
   ]
  },
  {
   "cell_type": "code",
   "execution_count": null,
   "id": "f717b3e6-0ba4-4747-9217-604dcb145a10",
   "metadata": {},
   "outputs": [],
   "source": [
    "X_train[\"Revenue\"]"
   ]
  },
  {
   "cell_type": "code",
   "execution_count": null,
   "id": "e89f0e03-01e2-4060-a262-dae204fdfb8d",
   "metadata": {},
   "outputs": [],
   "source": [
    "# data.drop(\"Revenue\", axis=1, inplace=True)\n",
    "# data.shape"
   ]
  }
 ],
 "metadata": {
  "kernelspec": {
   "display_name": "Python 3 (ipykernel)",
   "language": "python",
   "name": "python3"
  },
  "language_info": {
   "codemirror_mode": {
    "name": "ipython",
    "version": 3
   },
   "file_extension": ".py",
   "mimetype": "text/x-python",
   "name": "python",
   "nbconvert_exporter": "python",
   "pygments_lexer": "ipython3",
   "version": "3.8.13"
  }
 },
 "nbformat": 4,
 "nbformat_minor": 5
}
