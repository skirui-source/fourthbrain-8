{
 "cells": [
  {
   "cell_type": "code",
   "execution_count": 1,
   "id": "9798854d-5086-4e2c-9fb2-c0a6e04c6231",
   "metadata": {},
   "outputs": [
    {
     "name": "stdout",
     "output_type": "stream",
     "text": [
      "Requirement already satisfied: appdirs in /home/skirui/anaconda3/envs/midterm/lib/python3.8/site-packages (1.4.4)\n",
      "Requirement already satisfied: click in /home/skirui/anaconda3/envs/midterm/lib/python3.8/site-packages (8.1.3)\n",
      "Requirement already satisfied: mypy-extensions in /home/skirui/anaconda3/envs/midterm/lib/python3.8/site-packages (0.4.3)\n",
      "Requirement already satisfied: pathspec in /home/skirui/anaconda3/envs/midterm/lib/python3.8/site-packages (0.9.0)\n",
      "Requirement already satisfied: toml in /home/skirui/anaconda3/envs/midterm/lib/python3.8/site-packages (0.10.2)\n",
      "Requirement already satisfied: regex in /home/skirui/anaconda3/envs/midterm/lib/python3.8/site-packages (2022.8.17)\n",
      "Requirement already satisfied: numpy in /home/skirui/anaconda3/envs/midterm/lib/python3.8/site-packages (1.23.2)\n",
      "Requirement already satisfied: pandas in /home/skirui/anaconda3/envs/midterm/lib/python3.8/site-packages (1.4.3)\n",
      "Requirement already satisfied: seaborn in /home/skirui/anaconda3/envs/midterm/lib/python3.8/site-packages (0.11.2)\n",
      "Requirement already satisfied: matplotlib in /home/skirui/anaconda3/envs/midterm/lib/python3.8/site-packages (3.5.3)\n",
      "Requirement already satisfied: sklearn in /home/skirui/anaconda3/envs/midterm/lib/python3.8/site-packages (0.0)\n",
      "Requirement already satisfied: keras in /home/skirui/anaconda3/envs/midterm/lib/python3.8/site-packages (2.9.0)\n",
      "Requirement already satisfied: tensorflow in /home/skirui/anaconda3/envs/midterm/lib/python3.8/site-packages (2.9.1)\n",
      "Requirement already satisfied: pytz>=2020.1 in /home/skirui/anaconda3/envs/midterm/lib/python3.8/site-packages (from pandas) (2022.2.1)\n",
      "Requirement already satisfied: python-dateutil>=2.8.1 in /home/skirui/anaconda3/envs/midterm/lib/python3.8/site-packages (from pandas) (2.8.2)\n",
      "Requirement already satisfied: scipy>=1.0 in /home/skirui/anaconda3/envs/midterm/lib/python3.8/site-packages (from seaborn) (1.9.0)\n",
      "Requirement already satisfied: pyparsing>=2.2.1 in /home/skirui/anaconda3/envs/midterm/lib/python3.8/site-packages (from matplotlib) (3.0.9)\n",
      "Requirement already satisfied: fonttools>=4.22.0 in /home/skirui/anaconda3/envs/midterm/lib/python3.8/site-packages (from matplotlib) (4.36.0)\n",
      "Requirement already satisfied: pillow>=6.2.0 in /home/skirui/anaconda3/envs/midterm/lib/python3.8/site-packages (from matplotlib) (9.2.0)\n",
      "Requirement already satisfied: packaging>=20.0 in /home/skirui/anaconda3/envs/midterm/lib/python3.8/site-packages (from matplotlib) (21.3)\n",
      "Requirement already satisfied: kiwisolver>=1.0.1 in /home/skirui/anaconda3/envs/midterm/lib/python3.8/site-packages (from matplotlib) (1.4.4)\n",
      "Requirement already satisfied: cycler>=0.10 in /home/skirui/anaconda3/envs/midterm/lib/python3.8/site-packages (from matplotlib) (0.11.0)\n",
      "Requirement already satisfied: scikit-learn in /home/skirui/anaconda3/envs/midterm/lib/python3.8/site-packages (from sklearn) (1.1.2)\n",
      "Requirement already satisfied: opt-einsum>=2.3.2 in /home/skirui/anaconda3/envs/midterm/lib/python3.8/site-packages (from tensorflow) (3.3.0)\n",
      "Requirement already satisfied: libclang>=13.0.0 in /home/skirui/anaconda3/envs/midterm/lib/python3.8/site-packages (from tensorflow) (14.0.6)\n",
      "Requirement already satisfied: tensorflow-estimator<2.10.0,>=2.9.0rc0 in /home/skirui/anaconda3/envs/midterm/lib/python3.8/site-packages (from tensorflow) (2.9.0)\n",
      "Requirement already satisfied: six>=1.12.0 in /home/skirui/anaconda3/envs/midterm/lib/python3.8/site-packages (from tensorflow) (1.16.0)\n",
      "Requirement already satisfied: astunparse>=1.6.0 in /home/skirui/anaconda3/envs/midterm/lib/python3.8/site-packages (from tensorflow) (1.6.3)\n",
      "Requirement already satisfied: protobuf<3.20,>=3.9.2 in /home/skirui/anaconda3/envs/midterm/lib/python3.8/site-packages (from tensorflow) (3.19.4)\n",
      "Requirement already satisfied: flatbuffers<2,>=1.12 in /home/skirui/anaconda3/envs/midterm/lib/python3.8/site-packages (from tensorflow) (1.12)\n",
      "Requirement already satisfied: typing-extensions>=3.6.6 in /home/skirui/anaconda3/envs/midterm/lib/python3.8/site-packages (from tensorflow) (4.3.0)\n",
      "Requirement already satisfied: setuptools in /home/skirui/anaconda3/envs/midterm/lib/python3.8/site-packages (from tensorflow) (63.4.1)\n",
      "Requirement already satisfied: h5py>=2.9.0 in /home/skirui/anaconda3/envs/midterm/lib/python3.8/site-packages (from tensorflow) (3.7.0)\n",
      "Requirement already satisfied: grpcio<2.0,>=1.24.3 in /home/skirui/anaconda3/envs/midterm/lib/python3.8/site-packages (from tensorflow) (1.47.0)\n",
      "Requirement already satisfied: tensorflow-io-gcs-filesystem>=0.23.1 in /home/skirui/anaconda3/envs/midterm/lib/python3.8/site-packages (from tensorflow) (0.26.0)\n",
      "Requirement already satisfied: termcolor>=1.1.0 in /home/skirui/anaconda3/envs/midterm/lib/python3.8/site-packages (from tensorflow) (1.1.0)\n",
      "Requirement already satisfied: wrapt>=1.11.0 in /home/skirui/anaconda3/envs/midterm/lib/python3.8/site-packages (from tensorflow) (1.14.1)\n",
      "Requirement already satisfied: gast<=0.4.0,>=0.2.1 in /home/skirui/anaconda3/envs/midterm/lib/python3.8/site-packages (from tensorflow) (0.4.0)\n",
      "Requirement already satisfied: keras-preprocessing>=1.1.1 in /home/skirui/anaconda3/envs/midterm/lib/python3.8/site-packages (from tensorflow) (1.1.2)\n",
      "Requirement already satisfied: google-pasta>=0.1.1 in /home/skirui/anaconda3/envs/midterm/lib/python3.8/site-packages (from tensorflow) (0.2.0)\n",
      "Requirement already satisfied: absl-py>=1.0.0 in /home/skirui/anaconda3/envs/midterm/lib/python3.8/site-packages (from tensorflow) (1.2.0)\n",
      "Requirement already satisfied: tensorboard<2.10,>=2.9 in /home/skirui/anaconda3/envs/midterm/lib/python3.8/site-packages (from tensorflow) (2.9.1)\n",
      "Requirement already satisfied: wheel<1.0,>=0.23.0 in /home/skirui/anaconda3/envs/midterm/lib/python3.8/site-packages (from astunparse>=1.6.0->tensorflow) (0.37.1)\n",
      "Requirement already satisfied: tensorboard-plugin-wit>=1.6.0 in /home/skirui/anaconda3/envs/midterm/lib/python3.8/site-packages (from tensorboard<2.10,>=2.9->tensorflow) (1.8.1)\n",
      "Requirement already satisfied: google-auth<3,>=1.6.3 in /home/skirui/anaconda3/envs/midterm/lib/python3.8/site-packages (from tensorboard<2.10,>=2.9->tensorflow) (2.11.0)\n",
      "Requirement already satisfied: tensorboard-data-server<0.7.0,>=0.6.0 in /home/skirui/anaconda3/envs/midterm/lib/python3.8/site-packages (from tensorboard<2.10,>=2.9->tensorflow) (0.6.1)\n",
      "Requirement already satisfied: requests<3,>=2.21.0 in /home/skirui/anaconda3/envs/midterm/lib/python3.8/site-packages (from tensorboard<2.10,>=2.9->tensorflow) (2.28.1)\n",
      "Requirement already satisfied: werkzeug>=1.0.1 in /home/skirui/anaconda3/envs/midterm/lib/python3.8/site-packages (from tensorboard<2.10,>=2.9->tensorflow) (2.2.2)\n",
      "Requirement already satisfied: google-auth-oauthlib<0.5,>=0.4.1 in /home/skirui/anaconda3/envs/midterm/lib/python3.8/site-packages (from tensorboard<2.10,>=2.9->tensorflow) (0.4.6)\n",
      "Requirement already satisfied: markdown>=2.6.8 in /home/skirui/anaconda3/envs/midterm/lib/python3.8/site-packages (from tensorboard<2.10,>=2.9->tensorflow) (3.4.1)\n",
      "Requirement already satisfied: threadpoolctl>=2.0.0 in /home/skirui/anaconda3/envs/midterm/lib/python3.8/site-packages (from scikit-learn->sklearn) (3.1.0)\n",
      "Requirement already satisfied: joblib>=1.0.0 in /home/skirui/anaconda3/envs/midterm/lib/python3.8/site-packages (from scikit-learn->sklearn) (1.1.0)\n",
      "Requirement already satisfied: cachetools<6.0,>=2.0.0 in /home/skirui/anaconda3/envs/midterm/lib/python3.8/site-packages (from google-auth<3,>=1.6.3->tensorboard<2.10,>=2.9->tensorflow) (5.2.0)\n",
      "Requirement already satisfied: pyasn1-modules>=0.2.1 in /home/skirui/anaconda3/envs/midterm/lib/python3.8/site-packages (from google-auth<3,>=1.6.3->tensorboard<2.10,>=2.9->tensorflow) (0.2.8)\n",
      "Requirement already satisfied: rsa<5,>=3.1.4 in /home/skirui/anaconda3/envs/midterm/lib/python3.8/site-packages (from google-auth<3,>=1.6.3->tensorboard<2.10,>=2.9->tensorflow) (4.9)\n",
      "Requirement already satisfied: requests-oauthlib>=0.7.0 in /home/skirui/anaconda3/envs/midterm/lib/python3.8/site-packages (from google-auth-oauthlib<0.5,>=0.4.1->tensorboard<2.10,>=2.9->tensorflow) (1.3.1)\n",
      "Requirement already satisfied: importlib-metadata>=4.4 in /home/skirui/anaconda3/envs/midterm/lib/python3.8/site-packages (from markdown>=2.6.8->tensorboard<2.10,>=2.9->tensorflow) (4.12.0)\n",
      "Requirement already satisfied: certifi>=2017.4.17 in /home/skirui/anaconda3/envs/midterm/lib/python3.8/site-packages (from requests<3,>=2.21.0->tensorboard<2.10,>=2.9->tensorflow) (2022.6.15)\n",
      "Requirement already satisfied: urllib3<1.27,>=1.21.1 in /home/skirui/anaconda3/envs/midterm/lib/python3.8/site-packages (from requests<3,>=2.21.0->tensorboard<2.10,>=2.9->tensorflow) (1.26.12)\n",
      "Requirement already satisfied: idna<4,>=2.5 in /home/skirui/anaconda3/envs/midterm/lib/python3.8/site-packages (from requests<3,>=2.21.0->tensorboard<2.10,>=2.9->tensorflow) (3.3)\n",
      "Requirement already satisfied: charset-normalizer<3,>=2 in /home/skirui/anaconda3/envs/midterm/lib/python3.8/site-packages (from requests<3,>=2.21.0->tensorboard<2.10,>=2.9->tensorflow) (2.1.1)\n",
      "Requirement already satisfied: MarkupSafe>=2.1.1 in /home/skirui/anaconda3/envs/midterm/lib/python3.8/site-packages (from werkzeug>=1.0.1->tensorboard<2.10,>=2.9->tensorflow) (2.1.1)\n",
      "Requirement already satisfied: zipp>=0.5 in /home/skirui/anaconda3/envs/midterm/lib/python3.8/site-packages (from importlib-metadata>=4.4->markdown>=2.6.8->tensorboard<2.10,>=2.9->tensorflow) (3.8.1)\n",
      "Requirement already satisfied: pyasn1<0.5.0,>=0.4.6 in /home/skirui/anaconda3/envs/midterm/lib/python3.8/site-packages (from pyasn1-modules>=0.2.1->google-auth<3,>=1.6.3->tensorboard<2.10,>=2.9->tensorflow) (0.4.8)\n",
      "Requirement already satisfied: oauthlib>=3.0.0 in /home/skirui/anaconda3/envs/midterm/lib/python3.8/site-packages (from requests-oauthlib>=0.7.0->google-auth-oauthlib<0.5,>=0.4.1->tensorboard<2.10,>=2.9->tensorflow) (3.2.0)\n",
      "Requirement already satisfied: transformers in /home/skirui/anaconda3/envs/midterm/lib/python3.8/site-packages (4.21.1)\n",
      "Requirement already satisfied: torch in /home/skirui/anaconda3/envs/midterm/lib/python3.8/site-packages (1.12.1)\n",
      "Requirement already satisfied: pyyaml>=5.1 in /home/skirui/anaconda3/envs/midterm/lib/python3.8/site-packages (from transformers) (6.0)\n",
      "Requirement already satisfied: requests in /home/skirui/anaconda3/envs/midterm/lib/python3.8/site-packages (from transformers) (2.28.1)\n",
      "Requirement already satisfied: filelock in /home/skirui/anaconda3/envs/midterm/lib/python3.8/site-packages (from transformers) (3.8.0)\n",
      "Requirement already satisfied: tokenizers!=0.11.3,<0.13,>=0.11.1 in /home/skirui/anaconda3/envs/midterm/lib/python3.8/site-packages (from transformers) (0.12.1)\n",
      "Requirement already satisfied: tqdm>=4.27 in /home/skirui/anaconda3/envs/midterm/lib/python3.8/site-packages (from transformers) (4.64.0)\n",
      "Requirement already satisfied: packaging>=20.0 in /home/skirui/anaconda3/envs/midterm/lib/python3.8/site-packages (from transformers) (21.3)\n",
      "Requirement already satisfied: numpy>=1.17 in /home/skirui/anaconda3/envs/midterm/lib/python3.8/site-packages (from transformers) (1.23.2)\n",
      "Requirement already satisfied: regex!=2019.12.17 in /home/skirui/anaconda3/envs/midterm/lib/python3.8/site-packages (from transformers) (2022.8.17)\n",
      "Requirement already satisfied: huggingface-hub<1.0,>=0.1.0 in /home/skirui/anaconda3/envs/midterm/lib/python3.8/site-packages (from transformers) (0.8.1)\n",
      "Requirement already satisfied: typing-extensions in /home/skirui/anaconda3/envs/midterm/lib/python3.8/site-packages (from torch) (4.3.0)\n",
      "Requirement already satisfied: pyparsing!=3.0.5,>=2.0.2 in /home/skirui/anaconda3/envs/midterm/lib/python3.8/site-packages (from packaging>=20.0->transformers) (3.0.9)\n",
      "Requirement already satisfied: urllib3<1.27,>=1.21.1 in /home/skirui/anaconda3/envs/midterm/lib/python3.8/site-packages (from requests->transformers) (1.26.12)\n",
      "Requirement already satisfied: certifi>=2017.4.17 in /home/skirui/anaconda3/envs/midterm/lib/python3.8/site-packages (from requests->transformers) (2022.6.15)\n",
      "Requirement already satisfied: idna<4,>=2.5 in /home/skirui/anaconda3/envs/midterm/lib/python3.8/site-packages (from requests->transformers) (3.3)\n",
      "Requirement already satisfied: charset-normalizer<3,>=2 in /home/skirui/anaconda3/envs/midterm/lib/python3.8/site-packages (from requests->transformers) (2.1.1)\n",
      "Requirement already satisfied: emoji==0.6.0 in /home/skirui/anaconda3/envs/midterm/lib/python3.8/site-packages (0.6.0)\n"
     ]
    }
   ],
   "source": [
    "!pip install appdirs\n",
    "!pip install  click\n",
    "!pip install mypy-extensions\n",
    "!pip install pathspec\n",
    "!pip install toml\n",
    "!pip install regex\n",
    "\n",
    "!pip install numpy pandas seaborn matplotlib sklearn keras tensorflow\n",
    "\n",
    "\n",
    "!pip install transformers torch\n",
    "!pip install emoji==0.6.0"
   ]
  },
  {
   "cell_type": "code",
   "execution_count": 5,
   "id": "aa86d7d0-7d4d-4637-aba9-50b4538836cf",
   "metadata": {},
   "outputs": [
    {
     "name": "stdout",
     "output_type": "stream",
     "text": [
      "2.9.1\n"
     ]
    }
   ],
   "source": [
    "import tensorflow as tf\n",
    "from tensorflow import keras\n",
    "from tensorflow.keras import layers\n",
    "\n",
    "print(tf.__version__)"
   ]
  }
 ],
 "metadata": {
  "kernelspec": {
   "display_name": "Python 3 (ipykernel)",
   "language": "python",
   "name": "python3"
  },
  "language_info": {
   "codemirror_mode": {
    "name": "ipython",
    "version": 3
   },
   "file_extension": ".py",
   "mimetype": "text/x-python",
   "name": "python",
   "nbconvert_exporter": "python",
   "pygments_lexer": "ipython3",
   "version": "3.8.13"
  }
 },
 "nbformat": 4,
 "nbformat_minor": 5
}
