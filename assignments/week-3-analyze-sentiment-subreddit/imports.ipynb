{
 "cells": [
  {
   "cell_type": "code",
   "execution_count": 1,
   "id": "dd8ca316",
   "metadata": {},
   "outputs": [
    {
     "name": "stdout",
     "output_type": "stream",
     "text": [
      "Requirement already satisfied: transformers in /home/skirui/anaconda3/envs/week3/lib/python3.8/site-packages (4.20.1)\n",
      "Requirement already satisfied: praw in /home/skirui/anaconda3/envs/week3/lib/python3.8/site-packages (7.6.0)\n",
      "Requirement already satisfied: torch in /home/skirui/anaconda3/envs/week3/lib/python3.8/site-packages (1.12.0)\n",
      "Requirement already satisfied: numpy in /home/skirui/anaconda3/envs/week3/lib/python3.8/site-packages (1.23.1)\n",
      "Requirement already satisfied: pandas in /home/skirui/anaconda3/envs/week3/lib/python3.8/site-packages (1.4.3)\n",
      "Requirement already satisfied: regex!=2019.12.17 in /home/skirui/anaconda3/envs/week3/lib/python3.8/site-packages (from transformers) (2022.7.9)\n",
      "Requirement already satisfied: filelock in /home/skirui/anaconda3/envs/week3/lib/python3.8/site-packages (from transformers) (3.7.1)\n",
      "Requirement already satisfied: tokenizers!=0.11.3,<0.13,>=0.11.1 in /home/skirui/anaconda3/envs/week3/lib/python3.8/site-packages (from transformers) (0.12.1)\n",
      "Requirement already satisfied: huggingface-hub<1.0,>=0.1.0 in /home/skirui/anaconda3/envs/week3/lib/python3.8/site-packages (from transformers) (0.8.1)\n",
      "Requirement already satisfied: requests in /home/skirui/anaconda3/envs/week3/lib/python3.8/site-packages (from transformers) (2.28.1)\n",
      "Requirement already satisfied: packaging>=20.0 in /home/skirui/anaconda3/envs/week3/lib/python3.8/site-packages (from transformers) (21.3)\n",
      "Requirement already satisfied: pyyaml>=5.1 in /home/skirui/anaconda3/envs/week3/lib/python3.8/site-packages (from transformers) (6.0)\n",
      "Requirement already satisfied: tqdm>=4.27 in /home/skirui/anaconda3/envs/week3/lib/python3.8/site-packages (from transformers) (4.64.0)\n",
      "Requirement already satisfied: websocket-client>=0.54.0 in /home/skirui/anaconda3/envs/week3/lib/python3.8/site-packages (from praw) (1.3.3)\n",
      "Requirement already satisfied: update-checker>=0.18 in /home/skirui/anaconda3/envs/week3/lib/python3.8/site-packages (from praw) (0.18.0)\n",
      "Requirement already satisfied: prawcore<3,>=2.1 in /home/skirui/anaconda3/envs/week3/lib/python3.8/site-packages (from praw) (2.3.0)\n",
      "Requirement already satisfied: typing-extensions in /home/skirui/anaconda3/envs/week3/lib/python3.8/site-packages (from torch) (4.3.0)\n",
      "Requirement already satisfied: pytz>=2020.1 in /home/skirui/anaconda3/envs/week3/lib/python3.8/site-packages (from pandas) (2022.1)\n",
      "Requirement already satisfied: python-dateutil>=2.8.1 in /home/skirui/anaconda3/envs/week3/lib/python3.8/site-packages (from pandas) (2.8.2)\n",
      "Requirement already satisfied: pyparsing!=3.0.5,>=2.0.2 in /home/skirui/anaconda3/envs/week3/lib/python3.8/site-packages (from packaging>=20.0->transformers) (3.0.9)\n",
      "Requirement already satisfied: six>=1.5 in /home/skirui/anaconda3/envs/week3/lib/python3.8/site-packages (from python-dateutil>=2.8.1->pandas) (1.16.0)\n",
      "Requirement already satisfied: charset-normalizer<3,>=2 in /home/skirui/anaconda3/envs/week3/lib/python3.8/site-packages (from requests->transformers) (2.1.0)\n",
      "Requirement already satisfied: idna<4,>=2.5 in /home/skirui/anaconda3/envs/week3/lib/python3.8/site-packages (from requests->transformers) (3.3)\n",
      "Requirement already satisfied: urllib3<1.27,>=1.21.1 in /home/skirui/anaconda3/envs/week3/lib/python3.8/site-packages (from requests->transformers) (1.26.10)\n",
      "Requirement already satisfied: certifi>=2017.4.17 in /home/skirui/anaconda3/envs/week3/lib/python3.8/site-packages (from requests->transformers) (2022.6.15)\n",
      "Note: you may need to restart the kernel to use updated packages.\n"
     ]
    }
   ],
   "source": [
    "pip install -U transformers praw torch numpy pandas"
   ]
  }
 ],
 "metadata": {
  "kernelspec": {
   "display_name": "Python 3 (ipykernel)",
   "language": "python",
   "name": "python3"
  },
  "language_info": {
   "codemirror_mode": {
    "name": "ipython",
    "version": 3
   },
   "file_extension": ".py",
   "mimetype": "text/x-python",
   "name": "python",
   "nbconvert_exporter": "python",
   "pygments_lexer": "ipython3",
   "version": "3.8.13"
  }
 },
 "nbformat": 4,
 "nbformat_minor": 5
}
